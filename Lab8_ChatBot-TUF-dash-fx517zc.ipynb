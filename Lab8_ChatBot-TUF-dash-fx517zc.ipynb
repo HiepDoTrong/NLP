{
 "cells": [
  {
   "cell_type": "markdown",
   "metadata": {},
   "source": [
    "# Loading the data  "
   ]
  },
  {
   "cell_type": "code",
   "execution_count": 2,
   "metadata": {},
   "outputs": [],
   "source": [
    "import pickle\n",
    "import numpy as np"
   ]
  },
  {
   "cell_type": "code",
   "execution_count": 3,
   "metadata": {},
   "outputs": [],
   "source": [
    "with open('train_qa.txt', 'rb') as f:\n",
    "    train_data = pickle.load(f)"
   ]
  },
  {
   "cell_type": "code",
   "execution_count": 4,
   "metadata": {},
   "outputs": [],
   "source": [
    "with open('test_qa.txt', 'rb') as f:\n",
    "    test_data = pickle.load(f)"
   ]
  },
  {
   "cell_type": "markdown",
   "metadata": {},
   "source": [
    "# Exploring the Format of the Data"
   ]
  },
  {
   "cell_type": "code",
   "execution_count": 5,
   "metadata": {},
   "outputs": [
    {
     "data": {
      "text/plain": [
       "list"
      ]
     },
     "execution_count": 5,
     "metadata": {},
     "output_type": "execute_result"
    }
   ],
   "source": [
    "type(train_data)"
   ]
  },
  {
   "cell_type": "code",
   "execution_count": 6,
   "metadata": {},
   "outputs": [
    {
     "data": {
      "text/plain": [
       "list"
      ]
     },
     "execution_count": 6,
     "metadata": {},
     "output_type": "execute_result"
    }
   ],
   "source": [
    "type(test_data)"
   ]
  },
  {
   "cell_type": "code",
   "execution_count": 7,
   "metadata": {},
   "outputs": [
    {
     "data": {
      "text/plain": [
       "10000"
      ]
     },
     "execution_count": 7,
     "metadata": {},
     "output_type": "execute_result"
    }
   ],
   "source": [
    "len(train_data)"
   ]
  },
  {
   "cell_type": "code",
   "execution_count": 8,
   "metadata": {},
   "outputs": [
    {
     "data": {
      "text/plain": [
       "1000"
      ]
     },
     "execution_count": 8,
     "metadata": {},
     "output_type": "execute_result"
    }
   ],
   "source": [
    "len(test_data)"
   ]
  },
  {
   "cell_type": "code",
   "execution_count": 9,
   "metadata": {},
   "outputs": [
    {
     "data": {
      "text/plain": [
       "(['Mary',\n",
       "  'moved',\n",
       "  'to',\n",
       "  'the',\n",
       "  'bathroom',\n",
       "  '.',\n",
       "  'Sandra',\n",
       "  'journeyed',\n",
       "  'to',\n",
       "  'the',\n",
       "  'bedroom',\n",
       "  '.'],\n",
       " ['Is', 'Sandra', 'in', 'the', 'hallway', '?'],\n",
       " 'no')"
      ]
     },
     "execution_count": 9,
     "metadata": {},
     "output_type": "execute_result"
    }
   ],
   "source": [
    "train_data[0]"
   ]
  },
  {
   "cell_type": "code",
   "execution_count": 10,
   "metadata": {},
   "outputs": [
    {
     "data": {
      "text/plain": [
       "'Mary moved to the bathroom . Sandra journeyed to the bedroom .'"
      ]
     },
     "execution_count": 10,
     "metadata": {},
     "output_type": "execute_result"
    }
   ],
   "source": [
    "' '.join(train_data[0][0])"
   ]
  },
  {
   "cell_type": "code",
   "execution_count": 11,
   "metadata": {},
   "outputs": [
    {
     "data": {
      "text/plain": [
       "'Is Sandra in the hallway ?'"
      ]
     },
     "execution_count": 11,
     "metadata": {},
     "output_type": "execute_result"
    }
   ],
   "source": [
    "' '.join(train_data[0][1])"
   ]
  },
  {
   "cell_type": "code",
   "execution_count": 12,
   "metadata": {},
   "outputs": [
    {
     "data": {
      "text/plain": [
       "'no'"
      ]
     },
     "execution_count": 12,
     "metadata": {},
     "output_type": "execute_result"
    }
   ],
   "source": [
    "train_data[0][2]"
   ]
  },
  {
   "cell_type": "markdown",
   "metadata": {},
   "source": [
    "# Setting up Vocabulary of All Words"
   ]
  },
  {
   "cell_type": "code",
   "execution_count": 13,
   "metadata": {},
   "outputs": [],
   "source": [
    "vocab = set()"
   ]
  },
  {
   "cell_type": "code",
   "execution_count": 14,
   "metadata": {},
   "outputs": [],
   "source": [
    "all_data = test_data + train_data"
   ]
  },
  {
   "cell_type": "code",
   "execution_count": 15,
   "metadata": {},
   "outputs": [],
   "source": [
    "for story, question, answer in all_data:\n",
    "    vocab = vocab.union(set(story))\n",
    "    vocab = vocab.union(set(question))"
   ]
  },
  {
   "cell_type": "code",
   "execution_count": 16,
   "metadata": {},
   "outputs": [],
   "source": [
    "vocab.add('no')\n",
    "vocab.add('yes')"
   ]
  },
  {
   "cell_type": "code",
   "execution_count": 17,
   "metadata": {},
   "outputs": [
    {
     "data": {
      "text/plain": [
       "{'.',\n",
       " '?',\n",
       " 'Daniel',\n",
       " 'Is',\n",
       " 'John',\n",
       " 'Mary',\n",
       " 'Sandra',\n",
       " 'apple',\n",
       " 'back',\n",
       " 'bathroom',\n",
       " 'bedroom',\n",
       " 'discarded',\n",
       " 'down',\n",
       " 'dropped',\n",
       " 'football',\n",
       " 'garden',\n",
       " 'got',\n",
       " 'grabbed',\n",
       " 'hallway',\n",
       " 'in',\n",
       " 'journeyed',\n",
       " 'kitchen',\n",
       " 'left',\n",
       " 'milk',\n",
       " 'moved',\n",
       " 'no',\n",
       " 'office',\n",
       " 'picked',\n",
       " 'put',\n",
       " 'the',\n",
       " 'there',\n",
       " 'to',\n",
       " 'took',\n",
       " 'travelled',\n",
       " 'up',\n",
       " 'went',\n",
       " 'yes'}"
      ]
     },
     "execution_count": 17,
     "metadata": {},
     "output_type": "execute_result"
    }
   ],
   "source": [
    "vocab"
   ]
  },
  {
   "cell_type": "code",
   "execution_count": 18,
   "metadata": {},
   "outputs": [],
   "source": [
    "vocab_len = len(vocab) + 1"
   ]
  },
  {
   "cell_type": "code",
   "execution_count": 19,
   "metadata": {},
   "outputs": [],
   "source": [
    "max_story_len = max([len(data[0]) for data in all_data])"
   ]
  },
  {
   "cell_type": "code",
   "execution_count": 20,
   "metadata": {},
   "outputs": [
    {
     "data": {
      "text/plain": [
       "156"
      ]
     },
     "execution_count": 20,
     "metadata": {},
     "output_type": "execute_result"
    }
   ],
   "source": [
    "max_story_len"
   ]
  },
  {
   "cell_type": "code",
   "execution_count": 21,
   "metadata": {},
   "outputs": [],
   "source": [
    "max_question_len = max([len(data[1]) for data in all_data])"
   ]
  },
  {
   "cell_type": "code",
   "execution_count": 22,
   "metadata": {},
   "outputs": [
    {
     "data": {
      "text/plain": [
       "6"
      ]
     },
     "execution_count": 22,
     "metadata": {},
     "output_type": "execute_result"
    }
   ],
   "source": [
    "max_question_len"
   ]
  },
  {
   "cell_type": "markdown",
   "metadata": {},
   "source": [
    "# Vectorizing the Data"
   ]
  },
  {
   "cell_type": "code",
   "execution_count": 23,
   "metadata": {},
   "outputs": [],
   "source": [
    "vocab_size = len(vocab) + 1"
   ]
  },
  {
   "cell_type": "code",
   "execution_count": 24,
   "metadata": {},
   "outputs": [
    {
     "name": "stderr",
     "output_type": "stream",
     "text": [
      "2024-02-25 16:00:42.159424: I tensorflow/core/util/port.cc:113] oneDNN custom operations are on. You may see slightly different numerical results due to floating-point round-off errors from different computation orders. To turn them off, set the environment variable `TF_ENABLE_ONEDNN_OPTS=0`.\n",
      "2024-02-25 16:00:42.270343: E external/local_xla/xla/stream_executor/cuda/cuda_dnn.cc:9261] Unable to register cuDNN factory: Attempting to register factory for plugin cuDNN when one has already been registered\n",
      "2024-02-25 16:00:42.270365: E external/local_xla/xla/stream_executor/cuda/cuda_fft.cc:607] Unable to register cuFFT factory: Attempting to register factory for plugin cuFFT when one has already been registered\n",
      "2024-02-25 16:00:42.295710: E external/local_xla/xla/stream_executor/cuda/cuda_blas.cc:1515] Unable to register cuBLAS factory: Attempting to register factory for plugin cuBLAS when one has already been registered\n",
      "2024-02-25 16:00:42.333741: I tensorflow/core/platform/cpu_feature_guard.cc:182] This TensorFlow binary is optimized to use available CPU instructions in performance-critical operations.\n",
      "To enable the following instructions: SSE4.1 SSE4.2 AVX AVX2 AVX_VNNI FMA, in other operations, rebuild TensorFlow with the appropriate compiler flags.\n"
     ]
    }
   ],
   "source": [
    "from keras.preprocessing.sequence import pad_sequences\n",
    "from keras.preprocessing.text import Tokenizer"
   ]
  },
  {
   "cell_type": "code",
   "execution_count": 25,
   "metadata": {},
   "outputs": [],
   "source": [
    "tokenizer = Tokenizer(filters=[])\n",
    "tokenizer.fit_on_texts(vocab)"
   ]
  },
  {
   "cell_type": "code",
   "execution_count": 26,
   "metadata": {},
   "outputs": [
    {
     "data": {
      "text/plain": [
       "{'discarded': 1,\n",
       " 'took': 2,\n",
       " 'up': 3,\n",
       " 'apple': 4,\n",
       " 'bedroom': 5,\n",
       " 'back': 6,\n",
       " 'the': 7,\n",
       " 'no': 8,\n",
       " '?': 9,\n",
       " 'left': 10,\n",
       " 'kitchen': 11,\n",
       " 'garden': 12,\n",
       " 'moved': 13,\n",
       " 'there': 14,\n",
       " 'to': 15,\n",
       " 'is': 16,\n",
       " 'dropped': 17,\n",
       " 'got': 18,\n",
       " 'went': 19,\n",
       " 'john': 20,\n",
       " 'in': 21,\n",
       " 'picked': 22,\n",
       " 'down': 23,\n",
       " 'daniel': 24,\n",
       " '.': 25,\n",
       " 'office': 26,\n",
       " 'journeyed': 27,\n",
       " 'put': 28,\n",
       " 'hallway': 29,\n",
       " 'sandra': 30,\n",
       " 'travelled': 31,\n",
       " 'yes': 32,\n",
       " 'grabbed': 33,\n",
       " 'bathroom': 34,\n",
       " 'milk': 35,\n",
       " 'football': 36,\n",
       " 'mary': 37}"
      ]
     },
     "execution_count": 26,
     "metadata": {},
     "output_type": "execute_result"
    }
   ],
   "source": [
    "tokenizer.word_index"
   ]
  },
  {
   "cell_type": "code",
   "execution_count": 27,
   "metadata": {},
   "outputs": [],
   "source": [
    "train_story_text = []\n",
    "train_question_text = []\n",
    "train_answers = []\n",
    "\n",
    "for story, question, answer in train_data:\n",
    "    train_story_text.append(story)\n",
    "    train_question_text.append(question)"
   ]
  },
  {
   "cell_type": "code",
   "execution_count": 28,
   "metadata": {},
   "outputs": [],
   "source": [
    "train_story_seg = tokenizer.texts_to_sequences(train_story_text)"
   ]
  },
  {
   "cell_type": "code",
   "execution_count": 29,
   "metadata": {},
   "outputs": [
    {
     "data": {
      "text/plain": [
       "10000"
      ]
     },
     "execution_count": 29,
     "metadata": {},
     "output_type": "execute_result"
    }
   ],
   "source": [
    "len(train_story_text)"
   ]
  },
  {
   "cell_type": "code",
   "execution_count": 30,
   "metadata": {},
   "outputs": [
    {
     "data": {
      "text/plain": [
       "10000"
      ]
     },
     "execution_count": 30,
     "metadata": {},
     "output_type": "execute_result"
    }
   ],
   "source": [
    "len(train_story_seg)"
   ]
  },
  {
   "cell_type": "markdown",
   "metadata": {},
   "source": [
    "# Functionalize Vectorization"
   ]
  },
  {
   "cell_type": "code",
   "execution_count": 31,
   "metadata": {},
   "outputs": [],
   "source": [
    "def vectorize_stories(data, word_index=tokenizer.word_index, max_story_len=max_story_len, max_question_len=max_question_len):\n",
    "    X = []\n",
    "    Xq = []\n",
    "    Y = []\n",
    "    \n",
    "    for story, query, answer in data:\n",
    "        x = [word_index[word.lower()] for word in story]\n",
    "        xq = [word_index[word.lower()] for word in query]\n",
    "        y = np.zeros(len(word_index) + 1)\n",
    "        y[word_index[answer]] = 1\n",
    "        X.append(x)\n",
    "        Xq.append(xq)\n",
    "        Y.append(y)\n",
    "    return (pad_sequences(X, maxlen=max_story_len), pad_sequences(Xq, maxlen=max_question_len), np.array(Y))    "
   ]
  },
  {
   "cell_type": "code",
   "execution_count": 32,
   "metadata": {},
   "outputs": [],
   "source": [
    "inputs_train, queries_train, answers_train = vectorize_stories(train_data)"
   ]
  },
  {
   "cell_type": "code",
   "execution_count": 33,
   "metadata": {},
   "outputs": [],
   "source": [
    "inputs_test, queries_test, answers_test = vectorize_stories(test_data)"
   ]
  },
  {
   "cell_type": "code",
   "execution_count": 34,
   "metadata": {},
   "outputs": [
    {
     "data": {
      "text/plain": [
       "array([[ 0,  0,  0, ...,  7,  5, 25],\n",
       "       [ 0,  0,  0, ...,  7, 12, 25],\n",
       "       [ 0,  0,  0, ...,  7, 12, 25],\n",
       "       ...,\n",
       "       [ 0,  0,  0, ...,  7,  4, 25],\n",
       "       [ 0,  0,  0, ...,  7, 12, 25],\n",
       "       [ 0,  0,  0, ...,  4, 14, 25]], dtype=int32)"
      ]
     },
     "execution_count": 34,
     "metadata": {},
     "output_type": "execute_result"
    }
   ],
   "source": [
    "inputs_test"
   ]
  },
  {
   "cell_type": "code",
   "execution_count": 35,
   "metadata": {},
   "outputs": [
    {
     "data": {
      "text/plain": [
       "array([[16, 20, 21,  7, 11,  9],\n",
       "       [16, 20, 21,  7, 11,  9],\n",
       "       [16, 20, 21,  7, 12,  9],\n",
       "       ...,\n",
       "       [16, 37, 21,  7,  5,  9],\n",
       "       [16, 30, 21,  7, 12,  9],\n",
       "       [16, 37, 21,  7, 12,  9]], dtype=int32)"
      ]
     },
     "execution_count": 35,
     "metadata": {},
     "output_type": "execute_result"
    }
   ],
   "source": [
    "queries_test"
   ]
  },
  {
   "cell_type": "code",
   "execution_count": 36,
   "metadata": {},
   "outputs": [
    {
     "data": {
      "text/plain": [
       "array([[0., 0., 0., ..., 0., 0., 0.],\n",
       "       [0., 0., 0., ..., 0., 0., 0.],\n",
       "       [0., 0., 0., ..., 0., 0., 0.],\n",
       "       ...,\n",
       "       [0., 0., 0., ..., 0., 0., 0.],\n",
       "       [0., 0., 0., ..., 0., 0., 0.],\n",
       "       [0., 0., 0., ..., 0., 0., 0.]])"
      ]
     },
     "execution_count": 36,
     "metadata": {},
     "output_type": "execute_result"
    }
   ],
   "source": [
    "answers_test"
   ]
  },
  {
   "cell_type": "code",
   "execution_count": 37,
   "metadata": {},
   "outputs": [
    {
     "data": {
      "text/plain": [
       "array([  0.,   0.,   0.,   0.,   0.,   0.,   0.,   0., 503.,   0.,   0.,\n",
       "         0.,   0.,   0.,   0.,   0.,   0.,   0.,   0.,   0.,   0.,   0.,\n",
       "         0.,   0.,   0.,   0.,   0.,   0.,   0.,   0.,   0.,   0., 497.,\n",
       "         0.,   0.,   0.,   0.,   0.])"
      ]
     },
     "execution_count": 37,
     "metadata": {},
     "output_type": "execute_result"
    }
   ],
   "source": [
    "sum(answers_test)"
   ]
  },
  {
   "cell_type": "code",
   "execution_count": 38,
   "metadata": {},
   "outputs": [
    {
     "data": {
      "text/plain": [
       "32"
      ]
     },
     "execution_count": 38,
     "metadata": {},
     "output_type": "execute_result"
    }
   ],
   "source": [
    "tokenizer.word_index['yes']"
   ]
  },
  {
   "cell_type": "code",
   "execution_count": 39,
   "metadata": {},
   "outputs": [
    {
     "data": {
      "text/plain": [
       "8"
      ]
     },
     "execution_count": 39,
     "metadata": {},
     "output_type": "execute_result"
    }
   ],
   "source": [
    "tokenizer.word_index['no']"
   ]
  },
  {
   "cell_type": "code",
   "execution_count": 40,
   "metadata": {},
   "outputs": [],
   "source": [
    "from keras.models import Sequential, Model\n",
    "from keras.layers import Input, Activation, Dense, Permute, Dropout, add, dot, concatenate, LSTM, Embedding\n",
    "from keras.layers import add, dot, concatenate\n",
    "from keras.layers import LSTM"
   ]
  },
  {
   "cell_type": "code",
   "execution_count": 41,
   "metadata": {},
   "outputs": [],
   "source": [
    "input_sequence = Input((max_story_len,))\n",
    "question = Input((max_question_len,))"
   ]
  },
  {
   "cell_type": "markdown",
   "metadata": {},
   "source": [
    "# Encoders"
   ]
  },
  {
   "cell_type": "markdown",
   "metadata": {},
   "source": [
    "Input Encoder m"
   ]
  },
  {
   "cell_type": "code",
   "execution_count": 42,
   "metadata": {},
   "outputs": [
    {
     "name": "stderr",
     "output_type": "stream",
     "text": [
      "2024-02-25 16:00:44.465264: I external/local_xla/xla/stream_executor/cuda/cuda_executor.cc:901] successful NUMA node read from SysFS had negative value (-1), but there must be at least one NUMA node, so returning NUMA node zero. See more at https://github.com/torvalds/linux/blob/v6.0/Documentation/ABI/testing/sysfs-bus-pci#L344-L355\n",
      "2024-02-25 16:00:44.593722: I external/local_xla/xla/stream_executor/cuda/cuda_executor.cc:901] successful NUMA node read from SysFS had negative value (-1), but there must be at least one NUMA node, so returning NUMA node zero. See more at https://github.com/torvalds/linux/blob/v6.0/Documentation/ABI/testing/sysfs-bus-pci#L344-L355\n",
      "2024-02-25 16:00:44.593943: I external/local_xla/xla/stream_executor/cuda/cuda_executor.cc:901] successful NUMA node read from SysFS had negative value (-1), but there must be at least one NUMA node, so returning NUMA node zero. See more at https://github.com/torvalds/linux/blob/v6.0/Documentation/ABI/testing/sysfs-bus-pci#L344-L355\n",
      "2024-02-25 16:00:44.595656: I external/local_xla/xla/stream_executor/cuda/cuda_executor.cc:901] successful NUMA node read from SysFS had negative value (-1), but there must be at least one NUMA node, so returning NUMA node zero. See more at https://github.com/torvalds/linux/blob/v6.0/Documentation/ABI/testing/sysfs-bus-pci#L344-L355\n",
      "2024-02-25 16:00:44.595941: I external/local_xla/xla/stream_executor/cuda/cuda_executor.cc:901] successful NUMA node read from SysFS had negative value (-1), but there must be at least one NUMA node, so returning NUMA node zero. See more at https://github.com/torvalds/linux/blob/v6.0/Documentation/ABI/testing/sysfs-bus-pci#L344-L355\n",
      "2024-02-25 16:00:44.596016: I external/local_xla/xla/stream_executor/cuda/cuda_executor.cc:901] successful NUMA node read from SysFS had negative value (-1), but there must be at least one NUMA node, so returning NUMA node zero. See more at https://github.com/torvalds/linux/blob/v6.0/Documentation/ABI/testing/sysfs-bus-pci#L344-L355\n",
      "2024-02-25 16:00:44.645625: I external/local_xla/xla/stream_executor/cuda/cuda_executor.cc:901] successful NUMA node read from SysFS had negative value (-1), but there must be at least one NUMA node, so returning NUMA node zero. See more at https://github.com/torvalds/linux/blob/v6.0/Documentation/ABI/testing/sysfs-bus-pci#L344-L355\n",
      "2024-02-25 16:00:44.646066: I external/local_xla/xla/stream_executor/cuda/cuda_executor.cc:901] successful NUMA node read from SysFS had negative value (-1), but there must be at least one NUMA node, so returning NUMA node zero. See more at https://github.com/torvalds/linux/blob/v6.0/Documentation/ABI/testing/sysfs-bus-pci#L344-L355\n",
      "2024-02-25 16:00:44.646147: I external/local_xla/xla/stream_executor/cuda/cuda_executor.cc:901] successful NUMA node read from SysFS had negative value (-1), but there must be at least one NUMA node, so returning NUMA node zero. See more at https://github.com/torvalds/linux/blob/v6.0/Documentation/ABI/testing/sysfs-bus-pci#L344-L355\n",
      "2024-02-25 16:00:44.646296: I tensorflow/core/common_runtime/gpu/gpu_device.cc:1929] Created device /job:localhost/replica:0/task:0/device:GPU:0 with 2244 MB memory:  -> device: 0, name: NVIDIA GeForce RTX 3050 Laptop GPU, pci bus id: 0000:01:00.0, compute capability: 8.6\n"
     ]
    }
   ],
   "source": [
    "input_encoder_m = Sequential()\n",
    "input_encoder_m.add(Embedding(input_dim=vocab_size, output_dim=64))\n",
    "input_encoder_m.add(Dropout(0.3))"
   ]
  },
  {
   "cell_type": "markdown",
   "metadata": {},
   "source": [
    "Input Encoder c"
   ]
  },
  {
   "cell_type": "code",
   "execution_count": 43,
   "metadata": {},
   "outputs": [],
   "source": [
    "input_encoder_c = Sequential()\n",
    "input_encoder_c.add(Embedding(input_dim=vocab_size, output_dim=max_question_len))\n",
    "input_encoder_c.add(Dropout(0.3))"
   ]
  },
  {
   "cell_type": "markdown",
   "metadata": {},
   "source": [
    "Question Encoder"
   ]
  },
  {
   "cell_type": "code",
   "execution_count": 44,
   "metadata": {},
   "outputs": [],
   "source": [
    "question_encoder = Sequential()\n",
    "question_encoder.add(Embedding(input_dim=vocab_size, output_dim=64, input_length=max_question_len))\n",
    "question_encoder.add(Dropout(0.3))"
   ]
  },
  {
   "cell_type": "markdown",
   "metadata": {},
   "source": [
    "Encode the Sequences"
   ]
  },
  {
   "cell_type": "code",
   "execution_count": 45,
   "metadata": {},
   "outputs": [],
   "source": [
    "input_encoder_m = input_encoder_m(input_sequence)\n",
    "input_encoder_c = input_encoder_c(input_sequence)\n",
    "question_encoded = question_encoder(question)"
   ]
  },
  {
   "cell_type": "code",
   "execution_count": 46,
   "metadata": {},
   "outputs": [],
   "source": [
    "match = dot([input_encoder_m, question_encoded], axes=(2, 2))\n",
    "match = Activation('softmax')(match)"
   ]
  },
  {
   "cell_type": "code",
   "execution_count": 47,
   "metadata": {},
   "outputs": [],
   "source": [
    "response = add([match, input_encoder_c])\n",
    "response = Permute((2, 1))(response)"
   ]
  },
  {
   "cell_type": "code",
   "execution_count": 48,
   "metadata": {},
   "outputs": [],
   "source": [
    "answer = concatenate([response, question_encoded])"
   ]
  },
  {
   "cell_type": "code",
   "execution_count": 49,
   "metadata": {},
   "outputs": [
    {
     "data": {
      "text/plain": [
       "<KerasTensor: shape=(None, 6, 220) dtype=float32 (created by layer 'concatenate')>"
      ]
     },
     "execution_count": 49,
     "metadata": {},
     "output_type": "execute_result"
    }
   ],
   "source": [
    "answer"
   ]
  },
  {
   "cell_type": "code",
   "execution_count": 50,
   "metadata": {},
   "outputs": [],
   "source": [
    "answer = LSTM(32)(answer)"
   ]
  },
  {
   "cell_type": "code",
   "execution_count": 51,
   "metadata": {},
   "outputs": [],
   "source": [
    "answer = Dropout(0.5)(answer)\n",
    "answer = Dense(vocab_size)(answer)"
   ]
  },
  {
   "cell_type": "code",
   "execution_count": 52,
   "metadata": {},
   "outputs": [],
   "source": [
    "answer = Activation('softmax')(answer)\n",
    "\n",
    "model = Model([input_sequence, question], answer)\n",
    "model.compile(optimizer='rmsprop', loss='categorical_crossentropy', metrics=['accuracy'])"
   ]
  },
  {
   "cell_type": "code",
   "execution_count": 53,
   "metadata": {},
   "outputs": [
    {
     "name": "stdout",
     "output_type": "stream",
     "text": [
      "Model: \"model\"\n",
      "__________________________________________________________________________________________________\n",
      " Layer (type)                Output Shape                 Param #   Connected to                  \n",
      "==================================================================================================\n",
      " input_1 (InputLayer)        [(None, 156)]                0         []                            \n",
      "                                                                                                  \n",
      " input_2 (InputLayer)        [(None, 6)]                  0         []                            \n",
      "                                                                                                  \n",
      " sequential (Sequential)     (None, None, 64)             2432      ['input_1[0][0]']             \n",
      "                                                                                                  \n",
      " sequential_2 (Sequential)   (None, 6, 64)                2432      ['input_2[0][0]']             \n",
      "                                                                                                  \n",
      " dot (Dot)                   (None, 156, 6)               0         ['sequential[0][0]',          \n",
      "                                                                     'sequential_2[0][0]']        \n",
      "                                                                                                  \n",
      " activation (Activation)     (None, 156, 6)               0         ['dot[0][0]']                 \n",
      "                                                                                                  \n",
      " sequential_1 (Sequential)   (None, None, 6)              228       ['input_1[0][0]']             \n",
      "                                                                                                  \n",
      " add (Add)                   (None, 156, 6)               0         ['activation[0][0]',          \n",
      "                                                                     'sequential_1[0][0]']        \n",
      "                                                                                                  \n",
      " permute (Permute)           (None, 6, 156)               0         ['add[0][0]']                 \n",
      "                                                                                                  \n",
      " concatenate (Concatenate)   (None, 6, 220)               0         ['permute[0][0]',             \n",
      "                                                                     'sequential_2[0][0]']        \n",
      "                                                                                                  \n",
      " lstm (LSTM)                 (None, 32)                   32384     ['concatenate[0][0]']         \n",
      "                                                                                                  \n",
      " dropout_3 (Dropout)         (None, 32)                   0         ['lstm[0][0]']                \n",
      "                                                                                                  \n",
      " dense (Dense)               (None, 38)                   1254      ['dropout_3[0][0]']           \n",
      "                                                                                                  \n",
      " activation_1 (Activation)   (None, 38)                   0         ['dense[0][0]']               \n",
      "                                                                                                  \n",
      "==================================================================================================\n",
      "Total params: 38730 (151.29 KB)\n",
      "Trainable params: 38730 (151.29 KB)\n",
      "Non-trainable params: 0 (0.00 Byte)\n",
      "__________________________________________________________________________________________________\n"
     ]
    }
   ],
   "source": [
    "model.summary()"
   ]
  },
  {
   "cell_type": "code",
   "execution_count": 54,
   "metadata": {},
   "outputs": [
    {
     "name": "stdout",
     "output_type": "stream",
     "text": [
      "Epoch 1/120\n"
     ]
    },
    {
     "name": "stderr",
     "output_type": "stream",
     "text": [
      "2024-02-25 16:00:46.869135: I external/local_xla/xla/stream_executor/cuda/cuda_dnn.cc:454] Loaded cuDNN version 8800\n",
      "2024-02-25 16:00:46.927384: I external/local_xla/xla/service/service.cc:168] XLA service 0x7fe76872a050 initialized for platform CUDA (this does not guarantee that XLA will be used). Devices:\n",
      "2024-02-25 16:00:46.927412: I external/local_xla/xla/service/service.cc:176]   StreamExecutor device (0): NVIDIA GeForce RTX 3050 Laptop GPU, Compute Capability 8.6\n",
      "2024-02-25 16:00:46.942867: I tensorflow/compiler/mlir/tensorflow/utils/dump_mlir_util.cc:269] disabling MLIR crash reproducer, set env var `MLIR_CRASH_REPRODUCER_DIRECTORY` to enable.\n",
      "WARNING: All log messages before absl::InitializeLog() is called are written to STDERR\n",
      "I0000 00:00:1708851647.005034   10518 device_compiler.h:186] Compiled cluster using XLA!  This line is logged at most once for the lifetime of the process.\n"
     ]
    },
    {
     "name": "stdout",
     "output_type": "stream",
     "text": [
      "313/313 [==============================] - 4s 5ms/step - loss: 0.8698 - accuracy: 0.4964 - val_loss: 0.6944 - val_accuracy: 0.5030\n",
      "Epoch 2/120\n",
      "313/313 [==============================] - 1s 4ms/step - loss: 0.7045 - accuracy: 0.5000 - val_loss: 0.6939 - val_accuracy: 0.5030\n",
      "Epoch 3/120\n",
      "313/313 [==============================] - 1s 4ms/step - loss: 0.6978 - accuracy: 0.4948 - val_loss: 0.6932 - val_accuracy: 0.5030\n",
      "Epoch 4/120\n",
      "313/313 [==============================] - 1s 4ms/step - loss: 0.6955 - accuracy: 0.5036 - val_loss: 0.6950 - val_accuracy: 0.4970\n",
      "Epoch 5/120\n",
      "313/313 [==============================] - 1s 4ms/step - loss: 0.6963 - accuracy: 0.4933 - val_loss: 0.6933 - val_accuracy: 0.4970\n",
      "Epoch 6/120\n",
      "313/313 [==============================] - 1s 4ms/step - loss: 0.6951 - accuracy: 0.5053 - val_loss: 0.6933 - val_accuracy: 0.4970\n",
      "Epoch 7/120\n",
      "313/313 [==============================] - 1s 4ms/step - loss: 0.6962 - accuracy: 0.4893 - val_loss: 0.6946 - val_accuracy: 0.4970\n",
      "Epoch 8/120\n",
      "313/313 [==============================] - 1s 4ms/step - loss: 0.6951 - accuracy: 0.5005 - val_loss: 0.6931 - val_accuracy: 0.5030\n",
      "Epoch 9/120\n",
      "313/313 [==============================] - 1s 4ms/step - loss: 0.6950 - accuracy: 0.5029 - val_loss: 0.6933 - val_accuracy: 0.5030\n",
      "Epoch 10/120\n",
      "313/313 [==============================] - 1s 4ms/step - loss: 0.6949 - accuracy: 0.5058 - val_loss: 0.6935 - val_accuracy: 0.5030\n",
      "Epoch 11/120\n",
      "313/313 [==============================] - 1s 4ms/step - loss: 0.6947 - accuracy: 0.5073 - val_loss: 0.6938 - val_accuracy: 0.4970\n",
      "Epoch 12/120\n",
      "313/313 [==============================] - 1s 4ms/step - loss: 0.6952 - accuracy: 0.5022 - val_loss: 0.6932 - val_accuracy: 0.4970\n",
      "Epoch 13/120\n",
      "313/313 [==============================] - 1s 4ms/step - loss: 0.6954 - accuracy: 0.4941 - val_loss: 0.6943 - val_accuracy: 0.4970\n",
      "Epoch 14/120\n",
      "313/313 [==============================] - 1s 4ms/step - loss: 0.6947 - accuracy: 0.5015 - val_loss: 0.6936 - val_accuracy: 0.5030\n",
      "Epoch 15/120\n",
      "313/313 [==============================] - 1s 4ms/step - loss: 0.6950 - accuracy: 0.4996 - val_loss: 0.6945 - val_accuracy: 0.4970\n",
      "Epoch 16/120\n",
      "313/313 [==============================] - 1s 4ms/step - loss: 0.6955 - accuracy: 0.4948 - val_loss: 0.6946 - val_accuracy: 0.4970\n",
      "Epoch 17/120\n",
      "313/313 [==============================] - 1s 4ms/step - loss: 0.6952 - accuracy: 0.4920 - val_loss: 0.6934 - val_accuracy: 0.4970\n",
      "Epoch 18/120\n",
      "313/313 [==============================] - 1s 4ms/step - loss: 0.6952 - accuracy: 0.4891 - val_loss: 0.6939 - val_accuracy: 0.4970\n",
      "Epoch 19/120\n",
      "313/313 [==============================] - 1s 4ms/step - loss: 0.6947 - accuracy: 0.5068 - val_loss: 0.6936 - val_accuracy: 0.4970\n",
      "Epoch 20/120\n",
      "313/313 [==============================] - 1s 4ms/step - loss: 0.6949 - accuracy: 0.5022 - val_loss: 0.6940 - val_accuracy: 0.5030\n",
      "Epoch 21/120\n",
      "313/313 [==============================] - 1s 4ms/step - loss: 0.6957 - accuracy: 0.4904 - val_loss: 0.6932 - val_accuracy: 0.4970\n",
      "Epoch 22/120\n",
      "313/313 [==============================] - 1s 4ms/step - loss: 0.6949 - accuracy: 0.4957 - val_loss: 0.6932 - val_accuracy: 0.4970\n",
      "Epoch 23/120\n",
      "313/313 [==============================] - 1s 4ms/step - loss: 0.6953 - accuracy: 0.5001 - val_loss: 0.6945 - val_accuracy: 0.5030\n",
      "Epoch 24/120\n",
      "313/313 [==============================] - 1s 4ms/step - loss: 0.6948 - accuracy: 0.5056 - val_loss: 0.6932 - val_accuracy: 0.5030\n",
      "Epoch 25/120\n",
      "313/313 [==============================] - 1s 4ms/step - loss: 0.6950 - accuracy: 0.4971 - val_loss: 0.6941 - val_accuracy: 0.4970\n",
      "Epoch 26/120\n",
      "313/313 [==============================] - 1s 4ms/step - loss: 0.6953 - accuracy: 0.4908 - val_loss: 0.6931 - val_accuracy: 0.5030\n",
      "Epoch 27/120\n",
      "313/313 [==============================] - 1s 4ms/step - loss: 0.6946 - accuracy: 0.5021 - val_loss: 0.6933 - val_accuracy: 0.5030\n",
      "Epoch 28/120\n",
      "313/313 [==============================] - 1s 4ms/step - loss: 0.6946 - accuracy: 0.5016 - val_loss: 0.6936 - val_accuracy: 0.4970\n",
      "Epoch 29/120\n",
      "313/313 [==============================] - 1s 4ms/step - loss: 0.6947 - accuracy: 0.5000 - val_loss: 0.6932 - val_accuracy: 0.4970\n",
      "Epoch 30/120\n",
      "313/313 [==============================] - 1s 4ms/step - loss: 0.6946 - accuracy: 0.5033 - val_loss: 0.6931 - val_accuracy: 0.5030\n",
      "Epoch 31/120\n",
      "313/313 [==============================] - 1s 5ms/step - loss: 0.6948 - accuracy: 0.4992 - val_loss: 0.6934 - val_accuracy: 0.5030\n",
      "Epoch 32/120\n",
      "313/313 [==============================] - 1s 4ms/step - loss: 0.6948 - accuracy: 0.5058 - val_loss: 0.6943 - val_accuracy: 0.4970\n",
      "Epoch 33/120\n",
      "313/313 [==============================] - 1s 5ms/step - loss: 0.6950 - accuracy: 0.5017 - val_loss: 0.6933 - val_accuracy: 0.5030\n",
      "Epoch 34/120\n",
      "313/313 [==============================] - 1s 5ms/step - loss: 0.6948 - accuracy: 0.4941 - val_loss: 0.7023 - val_accuracy: 0.4970\n",
      "Epoch 35/120\n",
      "313/313 [==============================] - 1s 4ms/step - loss: 0.6949 - accuracy: 0.5035 - val_loss: 0.6932 - val_accuracy: 0.4970\n",
      "Epoch 36/120\n",
      "313/313 [==============================] - 1s 5ms/step - loss: 0.6950 - accuracy: 0.4919 - val_loss: 0.6935 - val_accuracy: 0.4970\n",
      "Epoch 37/120\n",
      "313/313 [==============================] - 1s 4ms/step - loss: 0.6949 - accuracy: 0.4982 - val_loss: 0.6939 - val_accuracy: 0.4970\n",
      "Epoch 38/120\n",
      "313/313 [==============================] - 1s 4ms/step - loss: 0.6948 - accuracy: 0.5042 - val_loss: 0.6931 - val_accuracy: 0.5030\n",
      "Epoch 39/120\n",
      "313/313 [==============================] - 1s 4ms/step - loss: 0.6947 - accuracy: 0.5003 - val_loss: 0.6935 - val_accuracy: 0.5030\n",
      "Epoch 40/120\n",
      "313/313 [==============================] - 1s 4ms/step - loss: 0.6951 - accuracy: 0.4960 - val_loss: 0.6931 - val_accuracy: 0.5030\n",
      "Epoch 41/120\n",
      "313/313 [==============================] - 1s 4ms/step - loss: 0.6950 - accuracy: 0.4998 - val_loss: 0.6945 - val_accuracy: 0.5030\n",
      "Epoch 42/120\n",
      "313/313 [==============================] - 1s 4ms/step - loss: 0.6948 - accuracy: 0.5023 - val_loss: 0.6960 - val_accuracy: 0.4970\n",
      "Epoch 43/120\n",
      "313/313 [==============================] - 1s 4ms/step - loss: 0.6951 - accuracy: 0.5017 - val_loss: 0.6932 - val_accuracy: 0.4970\n",
      "Epoch 44/120\n",
      "313/313 [==============================] - 1s 4ms/step - loss: 0.6948 - accuracy: 0.5000 - val_loss: 0.6933 - val_accuracy: 0.5030\n",
      "Epoch 45/120\n",
      "313/313 [==============================] - 1s 4ms/step - loss: 0.6947 - accuracy: 0.5026 - val_loss: 0.6932 - val_accuracy: 0.4970\n",
      "Epoch 46/120\n",
      "313/313 [==============================] - 1s 4ms/step - loss: 0.6947 - accuracy: 0.4990 - val_loss: 0.6933 - val_accuracy: 0.5030\n",
      "Epoch 47/120\n",
      "313/313 [==============================] - 1s 4ms/step - loss: 0.6948 - accuracy: 0.4987 - val_loss: 0.6933 - val_accuracy: 0.4970\n",
      "Epoch 48/120\n",
      "313/313 [==============================] - 1s 4ms/step - loss: 0.6948 - accuracy: 0.5024 - val_loss: 0.6937 - val_accuracy: 0.4970\n",
      "Epoch 49/120\n",
      "313/313 [==============================] - 1s 4ms/step - loss: 0.6944 - accuracy: 0.5059 - val_loss: 0.6959 - val_accuracy: 0.4970\n",
      "Epoch 50/120\n",
      "313/313 [==============================] - 1s 4ms/step - loss: 0.6948 - accuracy: 0.5003 - val_loss: 0.6935 - val_accuracy: 0.4970\n",
      "Epoch 51/120\n",
      "313/313 [==============================] - 1s 4ms/step - loss: 0.6948 - accuracy: 0.4949 - val_loss: 0.6932 - val_accuracy: 0.4730\n",
      "Epoch 52/120\n",
      "313/313 [==============================] - 1s 4ms/step - loss: 0.6944 - accuracy: 0.5055 - val_loss: 0.6933 - val_accuracy: 0.5030\n",
      "Epoch 53/120\n",
      "313/313 [==============================] - 1s 4ms/step - loss: 0.6951 - accuracy: 0.4977 - val_loss: 0.6933 - val_accuracy: 0.4970\n",
      "Epoch 54/120\n",
      "313/313 [==============================] - 1s 4ms/step - loss: 0.6945 - accuracy: 0.4988 - val_loss: 0.6932 - val_accuracy: 0.5030\n",
      "Epoch 55/120\n",
      "313/313 [==============================] - 1s 4ms/step - loss: 0.6946 - accuracy: 0.5019 - val_loss: 0.6939 - val_accuracy: 0.4970\n",
      "Epoch 56/120\n",
      "313/313 [==============================] - 1s 4ms/step - loss: 0.6946 - accuracy: 0.5027 - val_loss: 0.6944 - val_accuracy: 0.5030\n",
      "Epoch 57/120\n",
      "313/313 [==============================] - 1s 4ms/step - loss: 0.6951 - accuracy: 0.4953 - val_loss: 0.6933 - val_accuracy: 0.4970\n",
      "Epoch 58/120\n",
      "313/313 [==============================] - 2s 5ms/step - loss: 0.6950 - accuracy: 0.4924 - val_loss: 0.6939 - val_accuracy: 0.4970\n",
      "Epoch 59/120\n",
      "313/313 [==============================] - 1s 5ms/step - loss: 0.6953 - accuracy: 0.4869 - val_loss: 0.6933 - val_accuracy: 0.5000\n",
      "Epoch 60/120\n",
      "313/313 [==============================] - 1s 5ms/step - loss: 0.6942 - accuracy: 0.5011 - val_loss: 0.6939 - val_accuracy: 0.4870\n",
      "Epoch 61/120\n",
      "313/313 [==============================] - 2s 5ms/step - loss: 0.6944 - accuracy: 0.5108 - val_loss: 0.6953 - val_accuracy: 0.4760\n",
      "Epoch 62/120\n",
      "313/313 [==============================] - 2s 5ms/step - loss: 0.6942 - accuracy: 0.5095 - val_loss: 0.6955 - val_accuracy: 0.4850\n",
      "Epoch 63/120\n",
      "313/313 [==============================] - 2s 5ms/step - loss: 0.6940 - accuracy: 0.5155 - val_loss: 0.6969 - val_accuracy: 0.4710\n",
      "Epoch 64/120\n",
      "313/313 [==============================] - 2s 5ms/step - loss: 0.6929 - accuracy: 0.5157 - val_loss: 0.7008 - val_accuracy: 0.4780\n",
      "Epoch 65/120\n",
      "313/313 [==============================] - 2s 5ms/step - loss: 0.6942 - accuracy: 0.5129 - val_loss: 0.6971 - val_accuracy: 0.4800\n",
      "Epoch 66/120\n",
      "313/313 [==============================] - 2s 5ms/step - loss: 0.6928 - accuracy: 0.5135 - val_loss: 0.6976 - val_accuracy: 0.4890\n",
      "Epoch 67/120\n",
      "313/313 [==============================] - 2s 5ms/step - loss: 0.6936 - accuracy: 0.5074 - val_loss: 0.6975 - val_accuracy: 0.4780\n",
      "Epoch 68/120\n",
      "313/313 [==============================] - 2s 5ms/step - loss: 0.6907 - accuracy: 0.5284 - val_loss: 0.7023 - val_accuracy: 0.4870\n",
      "Epoch 69/120\n",
      "313/313 [==============================] - 1s 5ms/step - loss: 0.6895 - accuracy: 0.5290 - val_loss: 0.6954 - val_accuracy: 0.4900\n",
      "Epoch 70/120\n",
      "313/313 [==============================] - 1s 4ms/step - loss: 0.6821 - accuracy: 0.5409 - val_loss: 0.6868 - val_accuracy: 0.5370\n",
      "Epoch 71/120\n",
      "313/313 [==============================] - 1s 4ms/step - loss: 0.6693 - accuracy: 0.5693 - val_loss: 0.6627 - val_accuracy: 0.6270\n",
      "Epoch 72/120\n",
      "313/313 [==============================] - 1s 5ms/step - loss: 0.6488 - accuracy: 0.6274 - val_loss: 0.6348 - val_accuracy: 0.6550\n",
      "Epoch 73/120\n",
      "313/313 [==============================] - 1s 5ms/step - loss: 0.6354 - accuracy: 0.6458 - val_loss: 0.6262 - val_accuracy: 0.6640\n",
      "Epoch 74/120\n",
      "313/313 [==============================] - 1s 5ms/step - loss: 0.6309 - accuracy: 0.6524 - val_loss: 0.6196 - val_accuracy: 0.6610\n",
      "Epoch 75/120\n",
      "313/313 [==============================] - 1s 5ms/step - loss: 0.6296 - accuracy: 0.6528 - val_loss: 0.6165 - val_accuracy: 0.6660\n",
      "Epoch 76/120\n",
      "313/313 [==============================] - 1s 5ms/step - loss: 0.6239 - accuracy: 0.6573 - val_loss: 0.6201 - val_accuracy: 0.6580\n",
      "Epoch 77/120\n",
      "313/313 [==============================] - 1s 5ms/step - loss: 0.6214 - accuracy: 0.6649 - val_loss: 0.6087 - val_accuracy: 0.6760\n",
      "Epoch 78/120\n",
      "313/313 [==============================] - 1s 5ms/step - loss: 0.6168 - accuracy: 0.6653 - val_loss: 0.6072 - val_accuracy: 0.6740\n",
      "Epoch 79/120\n",
      "313/313 [==============================] - 1s 5ms/step - loss: 0.6054 - accuracy: 0.6800 - val_loss: 0.5937 - val_accuracy: 0.6920\n",
      "Epoch 80/120\n",
      "313/313 [==============================] - 1s 5ms/step - loss: 0.5913 - accuracy: 0.6915 - val_loss: 0.5626 - val_accuracy: 0.7280\n",
      "Epoch 81/120\n",
      "313/313 [==============================] - 1s 5ms/step - loss: 0.5708 - accuracy: 0.7062 - val_loss: 0.5463 - val_accuracy: 0.7210\n",
      "Epoch 82/120\n",
      "313/313 [==============================] - 2s 5ms/step - loss: 0.5569 - accuracy: 0.7213 - val_loss: 0.5303 - val_accuracy: 0.7400\n",
      "Epoch 83/120\n",
      "313/313 [==============================] - 1s 5ms/step - loss: 0.5468 - accuracy: 0.7285 - val_loss: 0.5249 - val_accuracy: 0.7500\n",
      "Epoch 84/120\n",
      "313/313 [==============================] - 1s 5ms/step - loss: 0.5369 - accuracy: 0.7379 - val_loss: 0.5155 - val_accuracy: 0.7590\n",
      "Epoch 85/120\n",
      "313/313 [==============================] - 1s 5ms/step - loss: 0.5236 - accuracy: 0.7462 - val_loss: 0.4967 - val_accuracy: 0.7660\n",
      "Epoch 86/120\n",
      "313/313 [==============================] - 1s 5ms/step - loss: 0.5077 - accuracy: 0.7587 - val_loss: 0.4764 - val_accuracy: 0.7730\n",
      "Epoch 87/120\n",
      "313/313 [==============================] - 1s 5ms/step - loss: 0.4978 - accuracy: 0.7646 - val_loss: 0.4688 - val_accuracy: 0.7820\n",
      "Epoch 88/120\n",
      "313/313 [==============================] - 1s 5ms/step - loss: 0.4889 - accuracy: 0.7696 - val_loss: 0.4725 - val_accuracy: 0.7810\n",
      "Epoch 89/120\n",
      "313/313 [==============================] - 1s 5ms/step - loss: 0.4734 - accuracy: 0.7852 - val_loss: 0.4582 - val_accuracy: 0.7850\n",
      "Epoch 90/120\n",
      "313/313 [==============================] - 1s 5ms/step - loss: 0.4673 - accuracy: 0.7871 - val_loss: 0.4481 - val_accuracy: 0.7950\n",
      "Epoch 91/120\n",
      "313/313 [==============================] - 2s 5ms/step - loss: 0.4614 - accuracy: 0.7906 - val_loss: 0.4483 - val_accuracy: 0.7960\n",
      "Epoch 92/120\n",
      "313/313 [==============================] - 1s 5ms/step - loss: 0.4432 - accuracy: 0.8055 - val_loss: 0.4459 - val_accuracy: 0.8010\n",
      "Epoch 93/120\n",
      "313/313 [==============================] - 1s 5ms/step - loss: 0.4336 - accuracy: 0.8085 - val_loss: 0.4289 - val_accuracy: 0.8150\n",
      "Epoch 94/120\n",
      "313/313 [==============================] - 1s 5ms/step - loss: 0.4305 - accuracy: 0.8113 - val_loss: 0.4282 - val_accuracy: 0.8120\n",
      "Epoch 95/120\n",
      "313/313 [==============================] - 2s 5ms/step - loss: 0.4174 - accuracy: 0.8201 - val_loss: 0.4157 - val_accuracy: 0.8140\n",
      "Epoch 96/120\n",
      "313/313 [==============================] - 1s 5ms/step - loss: 0.4046 - accuracy: 0.8305 - val_loss: 0.4227 - val_accuracy: 0.8120\n",
      "Epoch 97/120\n",
      "313/313 [==============================] - 2s 5ms/step - loss: 0.3967 - accuracy: 0.8349 - val_loss: 0.4450 - val_accuracy: 0.8130\n",
      "Epoch 98/120\n",
      "313/313 [==============================] - 2s 5ms/step - loss: 0.3916 - accuracy: 0.8378 - val_loss: 0.4068 - val_accuracy: 0.8210\n",
      "Epoch 99/120\n",
      "313/313 [==============================] - 2s 5ms/step - loss: 0.3849 - accuracy: 0.8346 - val_loss: 0.3953 - val_accuracy: 0.8250\n",
      "Epoch 100/120\n",
      "313/313 [==============================] - 2s 5ms/step - loss: 0.3776 - accuracy: 0.8441 - val_loss: 0.4146 - val_accuracy: 0.7990\n",
      "Epoch 101/120\n",
      "313/313 [==============================] - 2s 5ms/step - loss: 0.3786 - accuracy: 0.8431 - val_loss: 0.3949 - val_accuracy: 0.8300\n",
      "Epoch 102/120\n",
      "313/313 [==============================] - 2s 5ms/step - loss: 0.3674 - accuracy: 0.8477 - val_loss: 0.3938 - val_accuracy: 0.8280\n",
      "Epoch 103/120\n",
      "313/313 [==============================] - 2s 5ms/step - loss: 0.3606 - accuracy: 0.8512 - val_loss: 0.3941 - val_accuracy: 0.8290\n",
      "Epoch 104/120\n",
      "313/313 [==============================] - 1s 5ms/step - loss: 0.3638 - accuracy: 0.8503 - val_loss: 0.3837 - val_accuracy: 0.8290\n",
      "Epoch 105/120\n",
      "313/313 [==============================] - 2s 5ms/step - loss: 0.3540 - accuracy: 0.8515 - val_loss: 0.4059 - val_accuracy: 0.8260\n",
      "Epoch 106/120\n",
      "313/313 [==============================] - 1s 5ms/step - loss: 0.3531 - accuracy: 0.8534 - val_loss: 0.3835 - val_accuracy: 0.8340\n",
      "Epoch 107/120\n",
      "313/313 [==============================] - 1s 5ms/step - loss: 0.3470 - accuracy: 0.8561 - val_loss: 0.3826 - val_accuracy: 0.8340\n",
      "Epoch 108/120\n",
      "313/313 [==============================] - 2s 5ms/step - loss: 0.3450 - accuracy: 0.8562 - val_loss: 0.4052 - val_accuracy: 0.8270\n",
      "Epoch 109/120\n",
      "313/313 [==============================] - 2s 5ms/step - loss: 0.3421 - accuracy: 0.8595 - val_loss: 0.3750 - val_accuracy: 0.8250\n",
      "Epoch 110/120\n",
      "313/313 [==============================] - 2s 5ms/step - loss: 0.3406 - accuracy: 0.8594 - val_loss: 0.3770 - val_accuracy: 0.8310\n",
      "Epoch 111/120\n",
      "313/313 [==============================] - 2s 5ms/step - loss: 0.3291 - accuracy: 0.8649 - val_loss: 0.3902 - val_accuracy: 0.8280\n",
      "Epoch 112/120\n",
      "313/313 [==============================] - 2s 5ms/step - loss: 0.3366 - accuracy: 0.8626 - val_loss: 0.3943 - val_accuracy: 0.8340\n",
      "Epoch 113/120\n",
      "313/313 [==============================] - 1s 4ms/step - loss: 0.3294 - accuracy: 0.8657 - val_loss: 0.3733 - val_accuracy: 0.8330\n",
      "Epoch 114/120\n",
      "313/313 [==============================] - 1s 4ms/step - loss: 0.3281 - accuracy: 0.8629 - val_loss: 0.3819 - val_accuracy: 0.8280\n",
      "Epoch 115/120\n",
      "313/313 [==============================] - 1s 4ms/step - loss: 0.3281 - accuracy: 0.8613 - val_loss: 0.3826 - val_accuracy: 0.8340\n",
      "Epoch 116/120\n",
      "313/313 [==============================] - 1s 4ms/step - loss: 0.3257 - accuracy: 0.8681 - val_loss: 0.3813 - val_accuracy: 0.8340\n",
      "Epoch 117/120\n",
      "313/313 [==============================] - 1s 4ms/step - loss: 0.3241 - accuracy: 0.8649 - val_loss: 0.3730 - val_accuracy: 0.8350\n",
      "Epoch 118/120\n",
      "313/313 [==============================] - 1s 4ms/step - loss: 0.3114 - accuracy: 0.8680 - val_loss: 0.3783 - val_accuracy: 0.8350\n",
      "Epoch 119/120\n",
      "313/313 [==============================] - 1s 4ms/step - loss: 0.3121 - accuracy: 0.8689 - val_loss: 0.3993 - val_accuracy: 0.8310\n",
      "Epoch 120/120\n",
      "313/313 [==============================] - 1s 4ms/step - loss: 0.3103 - accuracy: 0.8729 - val_loss: 0.4004 - val_accuracy: 0.8230\n"
     ]
    }
   ],
   "source": [
    "history = model.fit([inputs_train, queries_train], answers_train, batch_size=32, epochs=120, validation_data=([inputs_test, queries_test], answers_test))"
   ]
  },
  {
   "cell_type": "markdown",
   "metadata": {},
   "source": [
    "Saving the Model"
   ]
  },
  {
   "cell_type": "code",
   "execution_count": 55,
   "metadata": {},
   "outputs": [
    {
     "name": "stderr",
     "output_type": "stream",
     "text": [
      "/home/dotronghiep/anaconda3/envs/NLP/lib/python3.9/site-packages/keras/src/engine/training.py:3103: UserWarning: You are saving your model as an HDF5 file via `model.save()`. This file format is considered legacy. We recommend using instead the native Keras format, e.g. `model.save('my_model.keras')`.\n",
      "  saving_api.save_model(\n"
     ]
    }
   ],
   "source": [
    "filename = 'chatbot_120_epochs.h5'\n",
    "model.save(filename)"
   ]
  },
  {
   "cell_type": "markdown",
   "metadata": {},
   "source": [
    "Evaluating the Model"
   ]
  },
  {
   "cell_type": "code",
   "execution_count": 58,
   "metadata": {},
   "outputs": [
    {
     "name": "stdout",
     "output_type": "stream",
     "text": [
      "dict_keys(['loss', 'accuracy', 'val_loss', 'val_accuracy'])\n"
     ]
    },
    {
     "data": {
      "image/png": "[encoded data removed]",
      "text/plain": [
       "<Figure size 640x480 with 1 Axes>"
      ]
     },
     "metadata": {},
     "output_type": "display_data"
    }
   ],
   "source": [
    "import matplotlib.pyplot as plt\n",
    "%matplotlib inline\n",
    "print(history.history.keys())\n",
    "# summarize history for accuracy\n",
    "plt.plot(history.history['accuracy'])\n",
    "plt.plot(history.history['val_accuracy'])\n",
    "plt.title('model accuracy')\n",
    "plt.ylabel('accuracy')\n",
    "plt.xlabel('epoch')\n",
    "plt.legend(['train', 'test'], loc='upper left')\n",
    "plt.show()"
   ]
  },
  {
   "cell_type": "code",
   "execution_count": 59,
   "metadata": {},
   "outputs": [],
   "source": [
    "model.load_weights(filename)"
   ]
  },
  {
   "cell_type": "code",
   "execution_count": 60,
   "metadata": {},
   "outputs": [
    {
     "name": "stdout",
     "output_type": "stream",
     "text": [
      "32/32 [==============================] - 0s 1ms/step\n"
     ]
    }
   ],
   "source": [
    "pred_results = model.predict(([inputs_test, queries_test]))"
   ]
  },
  {
   "cell_type": "code",
   "execution_count": 61,
   "metadata": {},
   "outputs": [
    {
     "data": {
      "text/plain": [
       "['Mary',\n",
       " 'got',\n",
       " 'the',\n",
       " 'milk',\n",
       " 'there',\n",
       " '.',\n",
       " 'John',\n",
       " 'moved',\n",
       " 'to',\n",
       " 'the',\n",
       " 'bedroom',\n",
       " '.']"
      ]
     },
     "execution_count": 61,
     "metadata": {},
     "output_type": "execute_result"
    }
   ],
   "source": [
    "test_data[0][0]"
   ]
  },
  {
   "cell_type": "code",
   "execution_count": null,
   "metadata": {},
   "outputs": [],
   "source": []
  }
 ],
 "metadata": {
  "kernelspec": {
   "display_name": "NLP",
   "language": "python",
   "name": "python3"
  },
  "language_info": {
   "codemirror_mode": {
    "name": "ipython",
    "version": 3
   },
   "file_extension": ".py",
   "mimetype": "text/x-python",
   "name": "python",
   "nbconvert_exporter": "python",
   "pygments_lexer": "ipython3",
   "version": "3.9.18"
  }
 },
 "nbformat": 4,
 "nbformat_minor": 2
}
