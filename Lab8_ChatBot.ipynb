{
 "cells": [
  {
   "cell_type": "markdown",
   "metadata": {},
   "source": [
    "# Loading the data  "
   ]
  },
  {
   "cell_type": "code",
   "execution_count": 1,
   "metadata": {},
   "outputs": [],
   "source": [
    "import pickle\n",
    "import numpy as np"
   ]
  },
  {
   "cell_type": "code",
   "execution_count": 2,
   "metadata": {},
   "outputs": [],
   "source": [
    "with open('train_qa.txt', 'rb') as f:\n",
    "    train_data = pickle.load(f)"
   ]
  },
  {
   "cell_type": "code",
   "execution_count": 3,
   "metadata": {},
   "outputs": [],
   "source": [
    "with open('test_qa.txt', 'rb') as f:\n",
    "    test_data = pickle.load(f)"
   ]
  },
  {
   "cell_type": "markdown",
   "metadata": {},
   "source": [
    "# Exploring the Format of the Data"
   ]
  },
  {
   "cell_type": "code",
   "execution_count": 4,
   "metadata": {},
   "outputs": [
    {
     "data": {
      "text/plain": [
       "list"
      ]
     },
     "execution_count": 4,
     "metadata": {},
     "output_type": "execute_result"
    }
   ],
   "source": [
    "type(train_data)"
   ]
  },
  {
   "cell_type": "code",
   "execution_count": 5,
   "metadata": {},
   "outputs": [
    {
     "data": {
      "text/plain": [
       "list"
      ]
     },
     "execution_count": 5,
     "metadata": {},
     "output_type": "execute_result"
    }
   ],
   "source": [
    "type(test_data)"
   ]
  },
  {
   "cell_type": "code",
   "execution_count": 6,
   "metadata": {},
   "outputs": [
    {
     "data": {
      "text/plain": [
       "10000"
      ]
     },
     "execution_count": 6,
     "metadata": {},
     "output_type": "execute_result"
    }
   ],
   "source": [
    "len(train_data)"
   ]
  },
  {
   "cell_type": "code",
   "execution_count": 7,
   "metadata": {},
   "outputs": [
    {
     "data": {
      "text/plain": [
       "1000"
      ]
     },
     "execution_count": 7,
     "metadata": {},
     "output_type": "execute_result"
    }
   ],
   "source": [
    "len(test_data)"
   ]
  },
  {
   "cell_type": "code",
   "execution_count": 8,
   "metadata": {},
   "outputs": [
    {
     "data": {
      "text/plain": [
       "(['Mary',\n",
       "  'moved',\n",
       "  'to',\n",
       "  'the',\n",
       "  'bathroom',\n",
       "  '.',\n",
       "  'Sandra',\n",
       "  'journeyed',\n",
       "  'to',\n",
       "  'the',\n",
       "  'bedroom',\n",
       "  '.'],\n",
       " ['Is', 'Sandra', 'in', 'the', 'hallway', '?'],\n",
       " 'no')"
      ]
     },
     "execution_count": 8,
     "metadata": {},
     "output_type": "execute_result"
    }
   ],
   "source": [
    "train_data[0]"
   ]
  },
  {
   "cell_type": "code",
   "execution_count": 9,
   "metadata": {},
   "outputs": [
    {
     "data": {
      "text/plain": [
       "'Mary moved to the bathroom . Sandra journeyed to the bedroom .'"
      ]
     },
     "execution_count": 9,
     "metadata": {},
     "output_type": "execute_result"
    }
   ],
   "source": [
    "' '.join(train_data[0][0])"
   ]
  },
  {
   "cell_type": "code",
   "execution_count": 10,
   "metadata": {},
   "outputs": [
    {
     "data": {
      "text/plain": [
       "'Is Sandra in the hallway ?'"
      ]
     },
     "execution_count": 10,
     "metadata": {},
     "output_type": "execute_result"
    }
   ],
   "source": [
    "' '.join(train_data[0][1])"
   ]
  },
  {
   "cell_type": "code",
   "execution_count": 11,
   "metadata": {},
   "outputs": [
    {
     "data": {
      "text/plain": [
       "'no'"
      ]
     },
     "execution_count": 11,
     "metadata": {},
     "output_type": "execute_result"
    }
   ],
   "source": [
    "train_data[0][2]"
   ]
  },
  {
   "cell_type": "markdown",
   "metadata": {},
   "source": [
    "# Setting up Vocabulary of All Words"
   ]
  },
  {
   "cell_type": "code",
   "execution_count": 12,
   "metadata": {},
   "outputs": [],
   "source": [
    "vocab = set()"
   ]
  },
  {
   "cell_type": "code",
   "execution_count": 13,
   "metadata": {},
   "outputs": [],
   "source": [
    "all_data = test_data + train_data"
   ]
  },
  {
   "cell_type": "code",
   "execution_count": 14,
   "metadata": {},
   "outputs": [],
   "source": [
    "for story, question, answer in all_data:\n",
    "    vocab = vocab.union(set(story))\n",
    "    vocab = vocab.union(set(question))"
   ]
  },
  {
   "cell_type": "code",
   "execution_count": 15,
   "metadata": {},
   "outputs": [],
   "source": [
    "vocab.add('no')\n",
    "vocab.add('yes')"
   ]
  },
  {
   "cell_type": "code",
   "execution_count": 16,
   "metadata": {},
   "outputs": [
    {
     "data": {
      "text/plain": [
       "{'.',\n",
       " '?',\n",
       " 'Daniel',\n",
       " 'Is',\n",
       " 'John',\n",
       " 'Mary',\n",
       " 'Sandra',\n",
       " 'apple',\n",
       " 'back',\n",
       " 'bathroom',\n",
       " 'bedroom',\n",
       " 'discarded',\n",
       " 'down',\n",
       " 'dropped',\n",
       " 'football',\n",
       " 'garden',\n",
       " 'got',\n",
       " 'grabbed',\n",
       " 'hallway',\n",
       " 'in',\n",
       " 'journeyed',\n",
       " 'kitchen',\n",
       " 'left',\n",
       " 'milk',\n",
       " 'moved',\n",
       " 'no',\n",
       " 'office',\n",
       " 'picked',\n",
       " 'put',\n",
       " 'the',\n",
       " 'there',\n",
       " 'to',\n",
       " 'took',\n",
       " 'travelled',\n",
       " 'up',\n",
       " 'went',\n",
       " 'yes'}"
      ]
     },
     "execution_count": 16,
     "metadata": {},
     "output_type": "execute_result"
    }
   ],
   "source": [
    "vocab"
   ]
  },
  {
   "cell_type": "code",
   "execution_count": 17,
   "metadata": {},
   "outputs": [],
   "source": [
    "vocab_len = len(vocab) + 1"
   ]
  },
  {
   "cell_type": "code",
   "execution_count": 18,
   "metadata": {},
   "outputs": [],
   "source": [
    "max_story_len = max([len(data[0]) for data in all_data])"
   ]
  },
  {
   "cell_type": "code",
   "execution_count": 19,
   "metadata": {},
   "outputs": [
    {
     "data": {
      "text/plain": [
       "156"
      ]
     },
     "execution_count": 19,
     "metadata": {},
     "output_type": "execute_result"
    }
   ],
   "source": [
    "max_story_len"
   ]
  },
  {
   "cell_type": "code",
   "execution_count": 20,
   "metadata": {},
   "outputs": [],
   "source": [
    "max_question_len = max([len(data[1]) for data in all_data])"
   ]
  },
  {
   "cell_type": "code",
   "execution_count": 21,
   "metadata": {},
   "outputs": [
    {
     "data": {
      "text/plain": [
       "6"
      ]
     },
     "execution_count": 21,
     "metadata": {},
     "output_type": "execute_result"
    }
   ],
   "source": [
    "max_question_len"
   ]
  },
  {
   "cell_type": "markdown",
   "metadata": {},
   "source": [
    "# Vectorizing the Data"
   ]
  },
  {
   "cell_type": "code",
   "execution_count": 22,
   "metadata": {},
   "outputs": [],
   "source": [
    "vocab_size = len(vocab) + 1"
   ]
  },
  {
   "cell_type": "code",
   "execution_count": 23,
   "metadata": {},
   "outputs": [
    {
     "name": "stderr",
     "output_type": "stream",
     "text": [
      "2024-02-25 22:15:08.967959: I tensorflow/core/util/port.cc:113] oneDNN custom operations are on. You may see slightly different numerical results due to floating-point round-off errors from different computation orders. To turn them off, set the environment variable `TF_ENABLE_ONEDNN_OPTS=0`.\n",
      "2024-02-25 22:15:09.093723: E external/local_xla/xla/stream_executor/cuda/cuda_dnn.cc:9261] Unable to register cuDNN factory: Attempting to register factory for plugin cuDNN when one has already been registered\n",
      "2024-02-25 22:15:09.093759: E external/local_xla/xla/stream_executor/cuda/cuda_fft.cc:607] Unable to register cuFFT factory: Attempting to register factory for plugin cuFFT when one has already been registered\n",
      "2024-02-25 22:15:09.122290: E external/local_xla/xla/stream_executor/cuda/cuda_blas.cc:1515] Unable to register cuBLAS factory: Attempting to register factory for plugin cuBLAS when one has already been registered\n",
      "2024-02-25 22:15:09.159270: I tensorflow/core/platform/cpu_feature_guard.cc:182] This TensorFlow binary is optimized to use available CPU instructions in performance-critical operations.\n",
      "To enable the following instructions: SSE4.1 SSE4.2 AVX AVX2 AVX_VNNI FMA, in other operations, rebuild TensorFlow with the appropriate compiler flags.\n"
     ]
    }
   ],
   "source": [
    "from keras.preprocessing.sequence import pad_sequences\n",
    "from keras.preprocessing.text import Tokenizer"
   ]
  },
  {
   "cell_type": "code",
   "execution_count": 24,
   "metadata": {},
   "outputs": [],
   "source": [
    "tokenizer = Tokenizer(filters=[])\n",
    "tokenizer.fit_on_texts(vocab)"
   ]
  },
  {
   "cell_type": "code",
   "execution_count": 25,
   "metadata": {},
   "outputs": [
    {
     "data": {
      "text/plain": [
       "{'moved': 1,\n",
       " '?': 2,\n",
       " 'john': 3,\n",
       " 'put': 4,\n",
       " 'got': 5,\n",
       " 'bathroom': 6,\n",
       " 'sandra': 7,\n",
       " 'mary': 8,\n",
       " 'apple': 9,\n",
       " 'journeyed': 10,\n",
       " 'bedroom': 11,\n",
       " 'no': 12,\n",
       " 'football': 13,\n",
       " 'down': 14,\n",
       " 'hallway': 15,\n",
       " 'took': 16,\n",
       " 'there': 17,\n",
       " 'is': 18,\n",
       " 'picked': 19,\n",
       " 'up': 20,\n",
       " 'travelled': 21,\n",
       " 'went': 22,\n",
       " 'milk': 23,\n",
       " 'garden': 24,\n",
       " '.': 25,\n",
       " 'office': 26,\n",
       " 'discarded': 27,\n",
       " 'kitchen': 28,\n",
       " 'in': 29,\n",
       " 'daniel': 30,\n",
       " 'back': 31,\n",
       " 'dropped': 32,\n",
       " 'the': 33,\n",
       " 'grabbed': 34,\n",
       " 'yes': 35,\n",
       " 'left': 36,\n",
       " 'to': 37}"
      ]
     },
     "execution_count": 25,
     "metadata": {},
     "output_type": "execute_result"
    }
   ],
   "source": [
    "tokenizer.word_index"
   ]
  },
  {
   "cell_type": "code",
   "execution_count": 26,
   "metadata": {},
   "outputs": [],
   "source": [
    "train_story_text = []\n",
    "train_question_text = []\n",
    "train_answers = []\n",
    "\n",
    "for story, question, answer in train_data:\n",
    "    train_story_text.append(story)\n",
    "    train_question_text.append(question)"
   ]
  },
  {
   "cell_type": "code",
   "execution_count": 27,
   "metadata": {},
   "outputs": [],
   "source": [
    "train_story_seg = tokenizer.texts_to_sequences(train_story_text)"
   ]
  },
  {
   "cell_type": "code",
   "execution_count": 28,
   "metadata": {},
   "outputs": [
    {
     "data": {
      "text/plain": [
       "10000"
      ]
     },
     "execution_count": 28,
     "metadata": {},
     "output_type": "execute_result"
    }
   ],
   "source": [
    "len(train_story_text)"
   ]
  },
  {
   "cell_type": "code",
   "execution_count": 29,
   "metadata": {},
   "outputs": [
    {
     "data": {
      "text/plain": [
       "10000"
      ]
     },
     "execution_count": 29,
     "metadata": {},
     "output_type": "execute_result"
    }
   ],
   "source": [
    "len(train_story_seg)"
   ]
  },
  {
   "cell_type": "markdown",
   "metadata": {},
   "source": [
    "# Functionalize Vectorization"
   ]
  },
  {
   "cell_type": "code",
   "execution_count": 30,
   "metadata": {},
   "outputs": [],
   "source": [
    "def vectorize_stories(data, word_index=tokenizer.word_index, max_story_len=max_story_len, max_question_len=max_question_len):\n",
    "    X = []\n",
    "    Xq = []\n",
    "    Y = []\n",
    "    \n",
    "    for story, query, answer in data:\n",
    "        x = [word_index[word.lower()] for word in story]\n",
    "        xq = [word_index[word.lower()] for word in query]\n",
    "        y = np.zeros(len(word_index) + 1)\n",
    "        y[word_index[answer]] = 1\n",
    "        X.append(x)\n",
    "        Xq.append(xq)\n",
    "        Y.append(y)\n",
    "    return (pad_sequences(X, maxlen=max_story_len), pad_sequences(Xq, maxlen=max_question_len), np.array(Y))    "
   ]
  },
  {
   "cell_type": "code",
   "execution_count": 31,
   "metadata": {},
   "outputs": [],
   "source": [
    "inputs_train, queries_train, answers_train = vectorize_stories(train_data)"
   ]
  },
  {
   "cell_type": "code",
   "execution_count": 32,
   "metadata": {},
   "outputs": [],
   "source": [
    "inputs_test, queries_test, answers_test = vectorize_stories(test_data)"
   ]
  },
  {
   "cell_type": "code",
   "execution_count": 33,
   "metadata": {},
   "outputs": [
    {
     "data": {
      "text/plain": [
       "array([[ 0,  0,  0, ..., 33, 11, 25],\n",
       "       [ 0,  0,  0, ..., 33, 24, 25],\n",
       "       [ 0,  0,  0, ..., 33, 24, 25],\n",
       "       ...,\n",
       "       [ 0,  0,  0, ..., 33,  9, 25],\n",
       "       [ 0,  0,  0, ..., 33, 24, 25],\n",
       "       [ 0,  0,  0, ...,  9, 17, 25]], dtype=int32)"
      ]
     },
     "execution_count": 33,
     "metadata": {},
     "output_type": "execute_result"
    }
   ],
   "source": [
    "inputs_test"
   ]
  },
  {
   "cell_type": "code",
   "execution_count": 34,
   "metadata": {},
   "outputs": [
    {
     "data": {
      "text/plain": [
       "array([[18,  3, 29, 33, 28,  2],\n",
       "       [18,  3, 29, 33, 28,  2],\n",
       "       [18,  3, 29, 33, 24,  2],\n",
       "       ...,\n",
       "       [18,  8, 29, 33, 11,  2],\n",
       "       [18,  7, 29, 33, 24,  2],\n",
       "       [18,  8, 29, 33, 24,  2]], dtype=int32)"
      ]
     },
     "execution_count": 34,
     "metadata": {},
     "output_type": "execute_result"
    }
   ],
   "source": [
    "queries_test"
   ]
  },
  {
   "cell_type": "code",
   "execution_count": 35,
   "metadata": {},
   "outputs": [
    {
     "data": {
      "text/plain": [
       "array([[0., 0., 0., ..., 0., 0., 0.],\n",
       "       [0., 0., 0., ..., 0., 0., 0.],\n",
       "       [0., 0., 0., ..., 1., 0., 0.],\n",
       "       ...,\n",
       "       [0., 0., 0., ..., 0., 0., 0.],\n",
       "       [0., 0., 0., ..., 1., 0., 0.],\n",
       "       [0., 0., 0., ..., 1., 0., 0.]])"
      ]
     },
     "execution_count": 35,
     "metadata": {},
     "output_type": "execute_result"
    }
   ],
   "source": [
    "answers_test"
   ]
  },
  {
   "cell_type": "code",
   "execution_count": 36,
   "metadata": {},
   "outputs": [
    {
     "data": {
      "text/plain": [
       "array([  0.,   0.,   0.,   0.,   0.,   0.,   0.,   0.,   0.,   0.,   0.,\n",
       "         0., 503.,   0.,   0.,   0.,   0.,   0.,   0.,   0.,   0.,   0.,\n",
       "         0.,   0.,   0.,   0.,   0.,   0.,   0.,   0.,   0.,   0.,   0.,\n",
       "         0.,   0., 497.,   0.,   0.])"
      ]
     },
     "execution_count": 36,
     "metadata": {},
     "output_type": "execute_result"
    }
   ],
   "source": [
    "sum(answers_test)"
   ]
  },
  {
   "cell_type": "code",
   "execution_count": 37,
   "metadata": {},
   "outputs": [
    {
     "data": {
      "text/plain": [
       "35"
      ]
     },
     "execution_count": 37,
     "metadata": {},
     "output_type": "execute_result"
    }
   ],
   "source": [
    "tokenizer.word_index['yes']"
   ]
  },
  {
   "cell_type": "code",
   "execution_count": 38,
   "metadata": {},
   "outputs": [
    {
     "data": {
      "text/plain": [
       "12"
      ]
     },
     "execution_count": 38,
     "metadata": {},
     "output_type": "execute_result"
    }
   ],
   "source": [
    "tokenizer.word_index['no']"
   ]
  },
  {
   "cell_type": "code",
   "execution_count": 308,
   "metadata": {},
   "outputs": [],
   "source": [
    "from keras.models import Sequential, Model\n",
    "from keras.layers import Input, Activation, Dense, Permute, Dropout, add, dot, concatenate, LSTM, Embedding, Dense\n",
    "from keras.layers import add, dot, concatenate\n",
    "from keras.layers import LSTM"
   ]
  },
  {
   "cell_type": "code",
   "execution_count": 40,
   "metadata": {},
   "outputs": [],
   "source": [
    "input_sequence = Input((max_story_len,))\n",
    "question = Input((max_question_len,))"
   ]
  },
  {
   "cell_type": "markdown",
   "metadata": {},
   "source": [
    "# Encoders"
   ]
  },
  {
   "cell_type": "markdown",
   "metadata": {},
   "source": [
    "Input Encoder m"
   ]
  },
  {
   "cell_type": "code",
   "execution_count": 41,
   "metadata": {},
   "outputs": [
    {
     "name": "stderr",
     "output_type": "stream",
     "text": [
      "2024-02-25 22:15:11.268093: I external/local_xla/xla/stream_executor/cuda/cuda_executor.cc:901] successful NUMA node read from SysFS had negative value (-1), but there must be at least one NUMA node, so returning NUMA node zero. See more at https://github.com/torvalds/linux/blob/v6.0/Documentation/ABI/testing/sysfs-bus-pci#L344-L355\n",
      "2024-02-25 22:15:11.395569: I external/local_xla/xla/stream_executor/cuda/cuda_executor.cc:901] successful NUMA node read from SysFS had negative value (-1), but there must be at least one NUMA node, so returning NUMA node zero. See more at https://github.com/torvalds/linux/blob/v6.0/Documentation/ABI/testing/sysfs-bus-pci#L344-L355\n",
      "2024-02-25 22:15:11.395757: I external/local_xla/xla/stream_executor/cuda/cuda_executor.cc:901] successful NUMA node read from SysFS had negative value (-1), but there must be at least one NUMA node, so returning NUMA node zero. See more at https://github.com/torvalds/linux/blob/v6.0/Documentation/ABI/testing/sysfs-bus-pci#L344-L355\n",
      "2024-02-25 22:15:11.398730: I external/local_xla/xla/stream_executor/cuda/cuda_executor.cc:901] successful NUMA node read from SysFS had negative value (-1), but there must be at least one NUMA node, so returning NUMA node zero. See more at https://github.com/torvalds/linux/blob/v6.0/Documentation/ABI/testing/sysfs-bus-pci#L344-L355\n",
      "2024-02-25 22:15:11.398942: I external/local_xla/xla/stream_executor/cuda/cuda_executor.cc:901] successful NUMA node read from SysFS had negative value (-1), but there must be at least one NUMA node, so returning NUMA node zero. See more at https://github.com/torvalds/linux/blob/v6.0/Documentation/ABI/testing/sysfs-bus-pci#L344-L355\n",
      "2024-02-25 22:15:11.399088: I external/local_xla/xla/stream_executor/cuda/cuda_executor.cc:901] successful NUMA node read from SysFS had negative value (-1), but there must be at least one NUMA node, so returning NUMA node zero. See more at https://github.com/torvalds/linux/blob/v6.0/Documentation/ABI/testing/sysfs-bus-pci#L344-L355\n",
      "2024-02-25 22:15:11.459789: I external/local_xla/xla/stream_executor/cuda/cuda_executor.cc:901] successful NUMA node read from SysFS had negative value (-1), but there must be at least one NUMA node, so returning NUMA node zero. See more at https://github.com/torvalds/linux/blob/v6.0/Documentation/ABI/testing/sysfs-bus-pci#L344-L355\n",
      "2024-02-25 22:15:11.460238: I external/local_xla/xla/stream_executor/cuda/cuda_executor.cc:901] successful NUMA node read from SysFS had negative value (-1), but there must be at least one NUMA node, so returning NUMA node zero. See more at https://github.com/torvalds/linux/blob/v6.0/Documentation/ABI/testing/sysfs-bus-pci#L344-L355\n",
      "2024-02-25 22:15:11.460316: I external/local_xla/xla/stream_executor/cuda/cuda_executor.cc:901] successful NUMA node read from SysFS had negative value (-1), but there must be at least one NUMA node, so returning NUMA node zero. See more at https://github.com/torvalds/linux/blob/v6.0/Documentation/ABI/testing/sysfs-bus-pci#L344-L355\n",
      "2024-02-25 22:15:11.460462: I tensorflow/core/common_runtime/gpu/gpu_device.cc:1929] Created device /job:localhost/replica:0/task:0/device:GPU:0 with 2244 MB memory:  -> device: 0, name: NVIDIA GeForce RTX 3050 Laptop GPU, pci bus id: 0000:01:00.0, compute capability: 8.6\n"
     ]
    }
   ],
   "source": [
    "input_encoder_m = Sequential()\n",
    "input_encoder_m.add(Embedding(input_dim=vocab_size, output_dim=64))\n",
    "input_encoder_m.add(Dropout(0.3))"
   ]
  },
  {
   "cell_type": "markdown",
   "metadata": {},
   "source": [
    "Input Encoder c"
   ]
  },
  {
   "cell_type": "code",
   "execution_count": 42,
   "metadata": {},
   "outputs": [],
   "source": [
    "input_encoder_c = Sequential()\n",
    "input_encoder_c.add(Embedding(input_dim=vocab_size, output_dim=max_question_len))\n",
    "input_encoder_c.add(Dropout(0.3))"
   ]
  },
  {
   "cell_type": "markdown",
   "metadata": {},
   "source": [
    "Question Encoder"
   ]
  },
  {
   "cell_type": "code",
   "execution_count": 43,
   "metadata": {},
   "outputs": [],
   "source": [
    "question_encoder = Sequential()\n",
    "question_encoder.add(Embedding(input_dim=vocab_size, output_dim=64, input_length=max_question_len))\n",
    "question_encoder.add(Dropout(0.3))"
   ]
  },
  {
   "cell_type": "markdown",
   "metadata": {},
   "source": [
    "Encode the Sequences"
   ]
  },
  {
   "cell_type": "code",
   "execution_count": 44,
   "metadata": {},
   "outputs": [],
   "source": [
    "input_encoder_m = input_encoder_m(input_sequence)\n",
    "input_encoder_c = input_encoder_c(input_sequence)\n",
    "question_encoded = question_encoder(question)"
   ]
  },
  {
   "cell_type": "code",
   "execution_count": 45,
   "metadata": {},
   "outputs": [],
   "source": [
    "match = dot([input_encoder_m, question_encoded], axes=(2, 2))\n",
    "match = Activation('softmax')(match)"
   ]
  },
  {
   "cell_type": "code",
   "execution_count": 46,
   "metadata": {},
   "outputs": [],
   "source": [
    "response = add([match, input_encoder_c])\n",
    "response = Permute((2, 1))(response)"
   ]
  },
  {
   "cell_type": "code",
   "execution_count": 47,
   "metadata": {},
   "outputs": [],
   "source": [
    "answer = concatenate([response, question_encoded])"
   ]
  },
  {
   "cell_type": "code",
   "execution_count": 48,
   "metadata": {},
   "outputs": [
    {
     "data": {
      "text/plain": [
       "<KerasTensor: shape=(None, 6, 220) dtype=float32 (created by layer 'concatenate')>"
      ]
     },
     "execution_count": 48,
     "metadata": {},
     "output_type": "execute_result"
    }
   ],
   "source": [
    "answer"
   ]
  },
  {
   "cell_type": "code",
   "execution_count": 49,
   "metadata": {},
   "outputs": [],
   "source": [
    "answer = LSTM(32)(answer)"
   ]
  },
  {
   "cell_type": "code",
   "execution_count": 50,
   "metadata": {},
   "outputs": [],
   "source": [
    "answer = Dropout(0.5)(answer)\n",
    "answer = Dense(vocab_size)(answer)"
   ]
  },
  {
   "cell_type": "code",
   "execution_count": 51,
   "metadata": {},
   "outputs": [],
   "source": [
    "answer = Activation('softmax')(answer)\n",
    "\n",
    "model = Model([input_sequence, question], answer)\n",
    "model.compile(optimizer='rmsprop', loss='categorical_crossentropy', metrics=['accuracy'])"
   ]
  },
  {
   "cell_type": "code",
   "execution_count": 52,
   "metadata": {},
   "outputs": [
    {
     "name": "stdout",
     "output_type": "stream",
     "text": [
      "Model: \"model\"\n",
      "__________________________________________________________________________________________________\n",
      " Layer (type)                Output Shape                 Param #   Connected to                  \n",
      "==================================================================================================\n",
      " input_1 (InputLayer)        [(None, 156)]                0         []                            \n",
      "                                                                                                  \n",
      " input_2 (InputLayer)        [(None, 6)]                  0         []                            \n",
      "                                                                                                  \n",
      " sequential (Sequential)     (None, None, 64)             2432      ['input_1[0][0]']             \n",
      "                                                                                                  \n",
      " sequential_2 (Sequential)   (None, 6, 64)                2432      ['input_2[0][0]']             \n",
      "                                                                                                  \n",
      " dot (Dot)                   (None, 156, 6)               0         ['sequential[0][0]',          \n",
      "                                                                     'sequential_2[0][0]']        \n",
      "                                                                                                  \n",
      " activation (Activation)     (None, 156, 6)               0         ['dot[0][0]']                 \n",
      "                                                                                                  \n",
      " sequential_1 (Sequential)   (None, None, 6)              228       ['input_1[0][0]']             \n",
      "                                                                                                  \n",
      " add (Add)                   (None, 156, 6)               0         ['activation[0][0]',          \n",
      "                                                                     'sequential_1[0][0]']        \n",
      "                                                                                                  \n",
      " permute (Permute)           (None, 6, 156)               0         ['add[0][0]']                 \n",
      "                                                                                                  \n",
      " concatenate (Concatenate)   (None, 6, 220)               0         ['permute[0][0]',             \n",
      "                                                                     'sequential_2[0][0]']        \n",
      "                                                                                                  \n",
      " lstm (LSTM)                 (None, 32)                   32384     ['concatenate[0][0]']         \n",
      "                                                                                                  \n",
      " dropout_3 (Dropout)         (None, 32)                   0         ['lstm[0][0]']                \n",
      "                                                                                                  \n",
      " dense (Dense)               (None, 38)                   1254      ['dropout_3[0][0]']           \n",
      "                                                                                                  \n",
      " activation_1 (Activation)   (None, 38)                   0         ['dense[0][0]']               \n",
      "                                                                                                  \n",
      "==================================================================================================\n",
      "Total params: 38730 (151.29 KB)\n",
      "Trainable params: 38730 (151.29 KB)\n",
      "Non-trainable params: 0 (0.00 Byte)\n",
      "__________________________________________________________________________________________________\n"
     ]
    }
   ],
   "source": [
    "model.summary()"
   ]
  },
  {
   "cell_type": "code",
   "execution_count": 53,
   "metadata": {},
   "outputs": [
    {
     "name": "stdout",
     "output_type": "stream",
     "text": [
      "Epoch 1/120\n"
     ]
    },
    {
     "name": "stderr",
     "output_type": "stream",
     "text": [
      "2024-02-25 22:15:13.495641: I external/local_xla/xla/stream_executor/cuda/cuda_dnn.cc:454] Loaded cuDNN version 8800\n",
      "2024-02-25 22:15:13.555955: I external/local_xla/xla/service/service.cc:168] XLA service 0x7f6f75c1dce0 initialized for platform CUDA (this does not guarantee that XLA will be used). Devices:\n",
      "2024-02-25 22:15:13.555986: I external/local_xla/xla/service/service.cc:176]   StreamExecutor device (0): NVIDIA GeForce RTX 3050 Laptop GPU, Compute Capability 8.6\n",
      "2024-02-25 22:15:13.571789: I tensorflow/compiler/mlir/tensorflow/utils/dump_mlir_util.cc:269] disabling MLIR crash reproducer, set env var `MLIR_CRASH_REPRODUCER_DIRECTORY` to enable.\n",
      "WARNING: All log messages before absl::InitializeLog() is called are written to STDERR\n",
      "I0000 00:00:1708874113.638776   14862 device_compiler.h:186] Compiled cluster using XLA!  This line is logged at most once for the lifetime of the process.\n"
     ]
    },
    {
     "name": "stdout",
     "output_type": "stream",
     "text": [
      "313/313 [==============================] - 3s 5ms/step - loss: 0.9060 - accuracy: 0.4904 - val_loss: 0.7127 - val_accuracy: 0.5030\n",
      "Epoch 2/120\n",
      "313/313 [==============================] - 1s 3ms/step - loss: 0.7042 - accuracy: 0.4955 - val_loss: 0.6942 - val_accuracy: 0.5030\n",
      "Epoch 3/120\n",
      "313/313 [==============================] - 1s 3ms/step - loss: 0.6975 - accuracy: 0.5005 - val_loss: 0.6945 - val_accuracy: 0.4970\n",
      "Epoch 4/120\n",
      "313/313 [==============================] - 1s 3ms/step - loss: 0.6961 - accuracy: 0.4967 - val_loss: 0.6936 - val_accuracy: 0.5030\n",
      "Epoch 5/120\n",
      "313/313 [==============================] - 1s 3ms/step - loss: 0.6962 - accuracy: 0.4906 - val_loss: 0.6952 - val_accuracy: 0.4970\n",
      "Epoch 6/120\n",
      "313/313 [==============================] - 1s 3ms/step - loss: 0.6951 - accuracy: 0.5061 - val_loss: 0.6943 - val_accuracy: 0.4970\n",
      "Epoch 7/120\n",
      "313/313 [==============================] - 1s 4ms/step - loss: 0.6954 - accuracy: 0.4998 - val_loss: 0.6935 - val_accuracy: 0.4970\n",
      "Epoch 8/120\n",
      "313/313 [==============================] - 1s 3ms/step - loss: 0.6956 - accuracy: 0.5006 - val_loss: 0.6932 - val_accuracy: 0.5030\n",
      "Epoch 9/120\n",
      "313/313 [==============================] - 1s 3ms/step - loss: 0.6955 - accuracy: 0.4969 - val_loss: 0.6949 - val_accuracy: 0.4970\n",
      "Epoch 10/120\n",
      "313/313 [==============================] - 1s 3ms/step - loss: 0.6952 - accuracy: 0.5006 - val_loss: 0.6936 - val_accuracy: 0.4970\n",
      "Epoch 11/120\n",
      "313/313 [==============================] - 1s 3ms/step - loss: 0.6951 - accuracy: 0.4956 - val_loss: 0.6944 - val_accuracy: 0.4970\n",
      "Epoch 12/120\n",
      "313/313 [==============================] - 1s 4ms/step - loss: 0.6948 - accuracy: 0.5033 - val_loss: 0.6935 - val_accuracy: 0.4970\n",
      "Epoch 13/120\n",
      "313/313 [==============================] - 1s 3ms/step - loss: 0.6953 - accuracy: 0.4986 - val_loss: 0.6935 - val_accuracy: 0.5030\n",
      "Epoch 14/120\n",
      "313/313 [==============================] - 1s 3ms/step - loss: 0.6946 - accuracy: 0.5050 - val_loss: 0.6932 - val_accuracy: 0.4970\n",
      "Epoch 15/120\n",
      "313/313 [==============================] - 1s 3ms/step - loss: 0.6955 - accuracy: 0.5016 - val_loss: 0.6937 - val_accuracy: 0.5030\n",
      "Epoch 16/120\n",
      "313/313 [==============================] - 1s 3ms/step - loss: 0.6950 - accuracy: 0.5015 - val_loss: 0.6978 - val_accuracy: 0.5030\n",
      "Epoch 17/120\n",
      "313/313 [==============================] - 1s 3ms/step - loss: 0.6955 - accuracy: 0.4961 - val_loss: 0.6931 - val_accuracy: 0.5030\n",
      "Epoch 18/120\n",
      "313/313 [==============================] - 1s 3ms/step - loss: 0.6950 - accuracy: 0.4944 - val_loss: 0.6933 - val_accuracy: 0.4970\n",
      "Epoch 19/120\n",
      "313/313 [==============================] - 1s 3ms/step - loss: 0.6946 - accuracy: 0.5110 - val_loss: 0.6936 - val_accuracy: 0.5030\n",
      "Epoch 20/120\n",
      "313/313 [==============================] - 1s 3ms/step - loss: 0.6952 - accuracy: 0.4980 - val_loss: 0.6948 - val_accuracy: 0.4970\n",
      "Epoch 21/120\n",
      "313/313 [==============================] - 1s 3ms/step - loss: 0.6947 - accuracy: 0.4972 - val_loss: 0.6934 - val_accuracy: 0.4970\n",
      "Epoch 22/120\n",
      "313/313 [==============================] - 1s 3ms/step - loss: 0.6951 - accuracy: 0.5037 - val_loss: 0.6931 - val_accuracy: 0.5030\n",
      "Epoch 23/120\n",
      "313/313 [==============================] - 1s 3ms/step - loss: 0.6951 - accuracy: 0.5005 - val_loss: 0.6934 - val_accuracy: 0.4970\n",
      "Epoch 24/120\n",
      "313/313 [==============================] - 1s 3ms/step - loss: 0.6951 - accuracy: 0.4949 - val_loss: 0.6940 - val_accuracy: 0.4970\n",
      "Epoch 25/120\n",
      "313/313 [==============================] - 1s 3ms/step - loss: 0.6943 - accuracy: 0.5071 - val_loss: 0.6932 - val_accuracy: 0.5030\n",
      "Epoch 26/120\n",
      "313/313 [==============================] - 1s 3ms/step - loss: 0.6951 - accuracy: 0.4976 - val_loss: 0.6993 - val_accuracy: 0.4970\n",
      "Epoch 27/120\n",
      "313/313 [==============================] - 1s 3ms/step - loss: 0.6951 - accuracy: 0.4972 - val_loss: 0.6938 - val_accuracy: 0.5030\n",
      "Epoch 28/120\n",
      "313/313 [==============================] - 1s 3ms/step - loss: 0.6944 - accuracy: 0.5070 - val_loss: 0.6932 - val_accuracy: 0.4970\n",
      "Epoch 29/120\n",
      "313/313 [==============================] - 1s 3ms/step - loss: 0.6948 - accuracy: 0.4994 - val_loss: 0.6931 - val_accuracy: 0.5030\n",
      "Epoch 30/120\n",
      "313/313 [==============================] - 1s 3ms/step - loss: 0.6949 - accuracy: 0.5041 - val_loss: 0.6934 - val_accuracy: 0.5030\n",
      "Epoch 31/120\n",
      "313/313 [==============================] - 1s 3ms/step - loss: 0.6950 - accuracy: 0.5027 - val_loss: 0.6931 - val_accuracy: 0.5030\n",
      "Epoch 32/120\n",
      "313/313 [==============================] - 1s 3ms/step - loss: 0.6951 - accuracy: 0.5018 - val_loss: 0.6934 - val_accuracy: 0.4970\n",
      "Epoch 33/120\n",
      "313/313 [==============================] - 1s 4ms/step - loss: 0.6950 - accuracy: 0.4932 - val_loss: 0.6940 - val_accuracy: 0.4970\n",
      "Epoch 34/120\n",
      "313/313 [==============================] - 1s 3ms/step - loss: 0.6951 - accuracy: 0.4907 - val_loss: 0.6935 - val_accuracy: 0.4970\n",
      "Epoch 35/120\n",
      "313/313 [==============================] - 1s 3ms/step - loss: 0.6957 - accuracy: 0.4884 - val_loss: 0.6936 - val_accuracy: 0.4970\n",
      "Epoch 36/120\n",
      "313/313 [==============================] - 1s 3ms/step - loss: 0.6947 - accuracy: 0.5047 - val_loss: 0.6941 - val_accuracy: 0.5030\n",
      "Epoch 37/120\n",
      "313/313 [==============================] - 1s 3ms/step - loss: 0.6952 - accuracy: 0.4940 - val_loss: 0.6931 - val_accuracy: 0.5030\n",
      "Epoch 38/120\n",
      "313/313 [==============================] - 1s 3ms/step - loss: 0.6946 - accuracy: 0.5067 - val_loss: 0.6939 - val_accuracy: 0.4970\n",
      "Epoch 39/120\n",
      "313/313 [==============================] - 1s 3ms/step - loss: 0.6949 - accuracy: 0.5013 - val_loss: 0.6931 - val_accuracy: 0.5030\n",
      "Epoch 40/120\n",
      "313/313 [==============================] - 1s 3ms/step - loss: 0.6949 - accuracy: 0.5014 - val_loss: 0.6936 - val_accuracy: 0.4970\n",
      "Epoch 41/120\n",
      "313/313 [==============================] - 1s 3ms/step - loss: 0.6951 - accuracy: 0.4988 - val_loss: 0.6932 - val_accuracy: 0.5030\n",
      "Epoch 42/120\n",
      "313/313 [==============================] - 1s 3ms/step - loss: 0.6942 - accuracy: 0.5031 - val_loss: 0.6934 - val_accuracy: 0.4970\n",
      "Epoch 43/120\n",
      "313/313 [==============================] - 1s 4ms/step - loss: 0.6948 - accuracy: 0.5066 - val_loss: 0.6932 - val_accuracy: 0.5030\n",
      "Epoch 44/120\n",
      "313/313 [==============================] - 1s 3ms/step - loss: 0.6952 - accuracy: 0.4993 - val_loss: 0.6932 - val_accuracy: 0.4970\n",
      "Epoch 45/120\n",
      "313/313 [==============================] - 1s 3ms/step - loss: 0.6943 - accuracy: 0.5031 - val_loss: 0.6935 - val_accuracy: 0.4970\n",
      "Epoch 46/120\n",
      "313/313 [==============================] - 1s 3ms/step - loss: 0.6950 - accuracy: 0.5005 - val_loss: 0.6935 - val_accuracy: 0.4970\n",
      "Epoch 47/120\n",
      "313/313 [==============================] - 1s 3ms/step - loss: 0.6941 - accuracy: 0.5056 - val_loss: 0.6958 - val_accuracy: 0.4970\n",
      "Epoch 48/120\n",
      "313/313 [==============================] - 1s 3ms/step - loss: 0.6947 - accuracy: 0.5022 - val_loss: 0.6933 - val_accuracy: 0.5030\n",
      "Epoch 49/120\n",
      "313/313 [==============================] - 1s 3ms/step - loss: 0.6952 - accuracy: 0.4993 - val_loss: 0.6937 - val_accuracy: 0.4970\n",
      "Epoch 50/120\n",
      "313/313 [==============================] - 1s 3ms/step - loss: 0.6945 - accuracy: 0.4996 - val_loss: 0.6958 - val_accuracy: 0.4970\n",
      "Epoch 51/120\n",
      "313/313 [==============================] - 1s 3ms/step - loss: 0.6950 - accuracy: 0.4994 - val_loss: 0.6931 - val_accuracy: 0.5030\n",
      "Epoch 52/120\n",
      "313/313 [==============================] - 1s 3ms/step - loss: 0.6945 - accuracy: 0.5016 - val_loss: 0.6931 - val_accuracy: 0.5030\n",
      "Epoch 53/120\n",
      "313/313 [==============================] - 1s 3ms/step - loss: 0.6950 - accuracy: 0.4972 - val_loss: 0.6931 - val_accuracy: 0.5030\n",
      "Epoch 54/120\n",
      "313/313 [==============================] - 1s 3ms/step - loss: 0.6946 - accuracy: 0.5015 - val_loss: 0.6947 - val_accuracy: 0.4970\n",
      "Epoch 55/120\n",
      "313/313 [==============================] - 1s 3ms/step - loss: 0.6948 - accuracy: 0.5013 - val_loss: 0.6932 - val_accuracy: 0.5030\n",
      "Epoch 56/120\n",
      "313/313 [==============================] - 1s 3ms/step - loss: 0.6949 - accuracy: 0.4963 - val_loss: 0.6939 - val_accuracy: 0.4970\n",
      "Epoch 57/120\n",
      "313/313 [==============================] - 1s 3ms/step - loss: 0.6944 - accuracy: 0.4989 - val_loss: 0.6934 - val_accuracy: 0.4970\n",
      "Epoch 58/120\n",
      "313/313 [==============================] - 1s 3ms/step - loss: 0.6948 - accuracy: 0.5020 - val_loss: 0.6934 - val_accuracy: 0.5030\n",
      "Epoch 59/120\n",
      "313/313 [==============================] - 1s 3ms/step - loss: 0.6944 - accuracy: 0.5028 - val_loss: 0.6937 - val_accuracy: 0.5030\n",
      "Epoch 60/120\n",
      "313/313 [==============================] - 1s 3ms/step - loss: 0.6952 - accuracy: 0.4953 - val_loss: 0.6932 - val_accuracy: 0.5040\n",
      "Epoch 61/120\n",
      "313/313 [==============================] - 1s 3ms/step - loss: 0.6930 - accuracy: 0.5107 - val_loss: 0.6959 - val_accuracy: 0.4990\n",
      "Epoch 62/120\n",
      "313/313 [==============================] - 1s 3ms/step - loss: 0.6946 - accuracy: 0.5100 - val_loss: 0.6939 - val_accuracy: 0.5010\n",
      "Epoch 63/120\n",
      "313/313 [==============================] - 1s 3ms/step - loss: 0.6934 - accuracy: 0.5118 - val_loss: 0.6947 - val_accuracy: 0.5020\n",
      "Epoch 64/120\n",
      "313/313 [==============================] - 1s 3ms/step - loss: 0.6931 - accuracy: 0.5176 - val_loss: 0.6939 - val_accuracy: 0.5050\n",
      "Epoch 65/120\n",
      "313/313 [==============================] - 1s 3ms/step - loss: 0.6914 - accuracy: 0.5244 - val_loss: 0.6946 - val_accuracy: 0.5260\n",
      "Epoch 66/120\n",
      "313/313 [==============================] - 1s 3ms/step - loss: 0.6844 - accuracy: 0.5452 - val_loss: 0.6848 - val_accuracy: 0.5610\n",
      "Epoch 67/120\n",
      "313/313 [==============================] - 1s 3ms/step - loss: 0.6774 - accuracy: 0.5665 - val_loss: 0.6703 - val_accuracy: 0.5580\n",
      "Epoch 68/120\n",
      "313/313 [==============================] - 1s 3ms/step - loss: 0.6696 - accuracy: 0.5858 - val_loss: 0.6605 - val_accuracy: 0.5900\n",
      "Epoch 69/120\n",
      "313/313 [==============================] - 1s 3ms/step - loss: 0.6623 - accuracy: 0.5955 - val_loss: 0.6489 - val_accuracy: 0.6200\n",
      "Epoch 70/120\n",
      "313/313 [==============================] - 1s 3ms/step - loss: 0.6459 - accuracy: 0.6207 - val_loss: 0.6277 - val_accuracy: 0.6530\n",
      "Epoch 71/120\n",
      "313/313 [==============================] - 1s 3ms/step - loss: 0.6410 - accuracy: 0.6344 - val_loss: 0.6208 - val_accuracy: 0.6570\n",
      "Epoch 72/120\n",
      "313/313 [==============================] - 1s 3ms/step - loss: 0.6278 - accuracy: 0.6453 - val_loss: 0.6129 - val_accuracy: 0.6430\n",
      "Epoch 73/120\n",
      "313/313 [==============================] - 1s 3ms/step - loss: 0.6258 - accuracy: 0.6558 - val_loss: 0.6053 - val_accuracy: 0.6550\n",
      "Epoch 74/120\n",
      "313/313 [==============================] - 1s 3ms/step - loss: 0.6190 - accuracy: 0.6625 - val_loss: 0.5956 - val_accuracy: 0.6850\n",
      "Epoch 75/120\n",
      "313/313 [==============================] - 1s 3ms/step - loss: 0.6095 - accuracy: 0.6732 - val_loss: 0.5914 - val_accuracy: 0.6770\n",
      "Epoch 76/120\n",
      "313/313 [==============================] - 1s 4ms/step - loss: 0.5975 - accuracy: 0.6797 - val_loss: 0.5805 - val_accuracy: 0.6900\n",
      "Epoch 77/120\n",
      "313/313 [==============================] - 1s 3ms/step - loss: 0.5885 - accuracy: 0.6842 - val_loss: 0.5818 - val_accuracy: 0.6800\n",
      "Epoch 78/120\n",
      "313/313 [==============================] - 1s 3ms/step - loss: 0.5828 - accuracy: 0.6933 - val_loss: 0.5704 - val_accuracy: 0.6850\n",
      "Epoch 79/120\n",
      "313/313 [==============================] - 1s 3ms/step - loss: 0.5788 - accuracy: 0.7009 - val_loss: 0.5585 - val_accuracy: 0.7160\n",
      "Epoch 80/120\n",
      "313/313 [==============================] - 1s 3ms/step - loss: 0.5662 - accuracy: 0.7063 - val_loss: 0.5467 - val_accuracy: 0.7210\n",
      "Epoch 81/120\n",
      "313/313 [==============================] - 1s 3ms/step - loss: 0.5575 - accuracy: 0.7129 - val_loss: 0.5432 - val_accuracy: 0.7170\n",
      "Epoch 82/120\n",
      "313/313 [==============================] - 1s 3ms/step - loss: 0.5411 - accuracy: 0.7288 - val_loss: 0.5093 - val_accuracy: 0.7460\n",
      "Epoch 83/120\n",
      "313/313 [==============================] - 1s 3ms/step - loss: 0.5304 - accuracy: 0.7479 - val_loss: 0.4893 - val_accuracy: 0.7450\n",
      "Epoch 84/120\n",
      "313/313 [==============================] - 1s 3ms/step - loss: 0.5094 - accuracy: 0.7578 - val_loss: 0.4629 - val_accuracy: 0.7850\n",
      "Epoch 85/120\n",
      "313/313 [==============================] - 1s 3ms/step - loss: 0.4909 - accuracy: 0.7752 - val_loss: 0.4563 - val_accuracy: 0.7720\n",
      "Epoch 86/120\n",
      "313/313 [==============================] - 1s 3ms/step - loss: 0.4750 - accuracy: 0.7847 - val_loss: 0.4392 - val_accuracy: 0.7960\n",
      "Epoch 87/120\n",
      "313/313 [==============================] - 1s 3ms/step - loss: 0.4690 - accuracy: 0.7908 - val_loss: 0.4332 - val_accuracy: 0.7890\n",
      "Epoch 88/120\n",
      "313/313 [==============================] - 1s 3ms/step - loss: 0.4615 - accuracy: 0.7931 - val_loss: 0.4429 - val_accuracy: 0.8020\n",
      "Epoch 89/120\n",
      "313/313 [==============================] - 1s 3ms/step - loss: 0.4577 - accuracy: 0.7955 - val_loss: 0.4263 - val_accuracy: 0.7990\n",
      "Epoch 90/120\n",
      "313/313 [==============================] - 1s 3ms/step - loss: 0.4475 - accuracy: 0.8007 - val_loss: 0.4300 - val_accuracy: 0.8030\n",
      "Epoch 91/120\n",
      "313/313 [==============================] - 1s 3ms/step - loss: 0.4408 - accuracy: 0.8019 - val_loss: 0.4313 - val_accuracy: 0.8030\n",
      "Epoch 92/120\n",
      "313/313 [==============================] - 1s 3ms/step - loss: 0.4317 - accuracy: 0.8125 - val_loss: 0.4258 - val_accuracy: 0.7950\n",
      "Epoch 93/120\n",
      "313/313 [==============================] - 1s 3ms/step - loss: 0.4253 - accuracy: 0.8143 - val_loss: 0.4088 - val_accuracy: 0.8030\n",
      "Epoch 94/120\n",
      "313/313 [==============================] - 1s 3ms/step - loss: 0.4209 - accuracy: 0.8216 - val_loss: 0.4139 - val_accuracy: 0.8060\n",
      "Epoch 95/120\n",
      "313/313 [==============================] - 1s 3ms/step - loss: 0.4153 - accuracy: 0.8166 - val_loss: 0.4262 - val_accuracy: 0.8000\n",
      "Epoch 96/120\n",
      "313/313 [==============================] - 1s 3ms/step - loss: 0.4042 - accuracy: 0.8232 - val_loss: 0.4239 - val_accuracy: 0.8000\n",
      "Epoch 97/120\n",
      "313/313 [==============================] - 1s 3ms/step - loss: 0.4057 - accuracy: 0.8201 - val_loss: 0.4052 - val_accuracy: 0.8080\n",
      "Epoch 98/120\n",
      "313/313 [==============================] - 1s 3ms/step - loss: 0.3988 - accuracy: 0.8230 - val_loss: 0.4088 - val_accuracy: 0.8140\n",
      "Epoch 99/120\n",
      "313/313 [==============================] - 1s 3ms/step - loss: 0.3984 - accuracy: 0.8283 - val_loss: 0.4666 - val_accuracy: 0.7790\n",
      "Epoch 100/120\n",
      "313/313 [==============================] - 1s 3ms/step - loss: 0.3927 - accuracy: 0.8259 - val_loss: 0.4113 - val_accuracy: 0.8060\n",
      "Epoch 101/120\n",
      "313/313 [==============================] - 1s 3ms/step - loss: 0.3889 - accuracy: 0.8308 - val_loss: 0.4017 - val_accuracy: 0.8180\n",
      "Epoch 102/120\n",
      "313/313 [==============================] - 1s 3ms/step - loss: 0.3879 - accuracy: 0.8327 - val_loss: 0.4076 - val_accuracy: 0.8060\n",
      "Epoch 103/120\n",
      "313/313 [==============================] - 1s 4ms/step - loss: 0.3785 - accuracy: 0.8344 - val_loss: 0.3991 - val_accuracy: 0.8070\n",
      "Epoch 104/120\n",
      "313/313 [==============================] - 1s 3ms/step - loss: 0.3780 - accuracy: 0.8331 - val_loss: 0.3948 - val_accuracy: 0.8150\n",
      "Epoch 105/120\n",
      "313/313 [==============================] - 1s 3ms/step - loss: 0.3781 - accuracy: 0.8385 - val_loss: 0.3897 - val_accuracy: 0.8180\n",
      "Epoch 106/120\n",
      "313/313 [==============================] - 1s 3ms/step - loss: 0.3696 - accuracy: 0.8406 - val_loss: 0.4079 - val_accuracy: 0.8190\n",
      "Epoch 107/120\n",
      "313/313 [==============================] - 1s 3ms/step - loss: 0.3645 - accuracy: 0.8455 - val_loss: 0.4128 - val_accuracy: 0.8110\n",
      "Epoch 108/120\n",
      "313/313 [==============================] - 1s 3ms/step - loss: 0.3606 - accuracy: 0.8426 - val_loss: 0.4233 - val_accuracy: 0.8160\n",
      "Epoch 109/120\n",
      "313/313 [==============================] - 1s 4ms/step - loss: 0.3488 - accuracy: 0.8502 - val_loss: 0.3807 - val_accuracy: 0.8320\n",
      "Epoch 110/120\n",
      "313/313 [==============================] - 1s 3ms/step - loss: 0.3418 - accuracy: 0.8538 - val_loss: 0.3888 - val_accuracy: 0.8250\n",
      "Epoch 111/120\n",
      "313/313 [==============================] - 1s 3ms/step - loss: 0.3469 - accuracy: 0.8510 - val_loss: 0.3943 - val_accuracy: 0.8280\n",
      "Epoch 112/120\n",
      "313/313 [==============================] - 1s 3ms/step - loss: 0.3453 - accuracy: 0.8546 - val_loss: 0.3767 - val_accuracy: 0.8170\n",
      "Epoch 113/120\n",
      "313/313 [==============================] - 1s 3ms/step - loss: 0.3371 - accuracy: 0.8600 - val_loss: 0.4087 - val_accuracy: 0.8200\n",
      "Epoch 114/120\n",
      "313/313 [==============================] - 1s 3ms/step - loss: 0.3360 - accuracy: 0.8559 - val_loss: 0.3753 - val_accuracy: 0.8210\n",
      "Epoch 115/120\n",
      "313/313 [==============================] - 1s 3ms/step - loss: 0.3331 - accuracy: 0.8578 - val_loss: 0.4036 - val_accuracy: 0.8200\n",
      "Epoch 116/120\n",
      "313/313 [==============================] - 1s 3ms/step - loss: 0.3288 - accuracy: 0.8571 - val_loss: 0.3824 - val_accuracy: 0.8240\n",
      "Epoch 117/120\n",
      "313/313 [==============================] - 1s 3ms/step - loss: 0.3256 - accuracy: 0.8602 - val_loss: 0.3716 - val_accuracy: 0.8390\n",
      "Epoch 118/120\n",
      "313/313 [==============================] - 1s 4ms/step - loss: 0.3189 - accuracy: 0.8601 - val_loss: 0.3944 - val_accuracy: 0.8170\n",
      "Epoch 119/120\n",
      "313/313 [==============================] - 1s 4ms/step - loss: 0.3183 - accuracy: 0.8621 - val_loss: 0.4173 - val_accuracy: 0.8310\n",
      "Epoch 120/120\n",
      "313/313 [==============================] - 1s 4ms/step - loss: 0.3183 - accuracy: 0.8658 - val_loss: 0.3750 - val_accuracy: 0.8340\n"
     ]
    }
   ],
   "source": [
    "history = model.fit([inputs_train, queries_train], answers_train, batch_size=32, epochs=120, validation_data=([inputs_test, queries_test], answers_test))"
   ]
  },
  {
   "cell_type": "markdown",
   "metadata": {},
   "source": [
    "Saving the Model"
   ]
  },
  {
   "cell_type": "code",
   "execution_count": 54,
   "metadata": {},
   "outputs": [
    {
     "name": "stderr",
     "output_type": "stream",
     "text": [
      "/home/dotronghiep/anaconda3/envs/NLP/lib/python3.9/site-packages/keras/src/engine/training.py:3103: UserWarning: You are saving your model as an HDF5 file via `model.save()`. This file format is considered legacy. We recommend using instead the native Keras format, e.g. `model.save('my_model.keras')`.\n",
      "  saving_api.save_model(\n"
     ]
    }
   ],
   "source": [
    "filename = 'chatbot_120_epochs.h5'\n",
    "model.save(filename)"
   ]
  },
  {
   "cell_type": "markdown",
   "metadata": {},
   "source": [
    "Evaluating the Model"
   ]
  },
  {
   "cell_type": "code",
   "execution_count": 55,
   "metadata": {},
   "outputs": [
    {
     "name": "stdout",
     "output_type": "stream",
     "text": [
      "dict_keys(['loss', 'accuracy', 'val_loss', 'val_accuracy'])\n"
     ]
    },
    {
     "data": {
      "image/png": "[encoded data removed]",
      "text/plain": [
       "<Figure size 640x480 with 1 Axes>"
      ]
     },
     "metadata": {},
     "output_type": "display_data"
    }
   ],
   "source": [
    "import matplotlib.pyplot as plt\n",
    "%matplotlib inline\n",
    "print(history.history.keys())\n",
    "# summarize history for accuracy\n",
    "plt.plot(history.history['accuracy'])\n",
    "plt.plot(history.history['val_accuracy'])\n",
    "plt.title('model accuracy')\n",
    "plt.ylabel('accuracy')\n",
    "plt.xlabel('epoch')\n",
    "plt.legend(['train', 'test'], loc='upper left')\n",
    "plt.show()"
   ]
  },
  {
   "cell_type": "code",
   "execution_count": 56,
   "metadata": {},
   "outputs": [],
   "source": [
    "model.load_weights(filename)"
   ]
  },
  {
   "cell_type": "code",
   "execution_count": 57,
   "metadata": {},
   "outputs": [
    {
     "name": "stdout",
     "output_type": "stream",
     "text": [
      "32/32 [==============================] - 0s 1ms/step\n"
     ]
    }
   ],
   "source": [
    "pred_results = model.predict(([inputs_test, queries_test]))"
   ]
  },
  {
   "cell_type": "code",
   "execution_count": 58,
   "metadata": {},
   "outputs": [
    {
     "data": {
      "text/plain": [
       "['Mary',\n",
       " 'got',\n",
       " 'the',\n",
       " 'milk',\n",
       " 'there',\n",
       " '.',\n",
       " 'John',\n",
       " 'moved',\n",
       " 'to',\n",
       " 'the',\n",
       " 'bedroom',\n",
       " '.']"
      ]
     },
     "execution_count": 58,
     "metadata": {},
     "output_type": "execute_result"
    }
   ],
   "source": [
    "test_data[0][0]"
   ]
  },
  {
   "cell_type": "code",
   "execution_count": 59,
   "metadata": {},
   "outputs": [
    {
     "name": "stdout",
     "output_type": "stream",
     "text": [
      "Mary got the milk there . John moved to the bedroom .\n"
     ]
    }
   ],
   "source": [
    "story =' '.join(word for word in test_data[0][0])\n",
    "print(story)"
   ]
  },
  {
   "cell_type": "code",
   "execution_count": 60,
   "metadata": {},
   "outputs": [
    {
     "name": "stdout",
     "output_type": "stream",
     "text": [
      "Is John in the kitchen ?\n"
     ]
    }
   ],
   "source": [
    "query = ' '.join(word for word in test_data[0][1])\n",
    "print(query)"
   ]
  },
  {
   "cell_type": "code",
   "execution_count": 61,
   "metadata": {},
   "outputs": [
    {
     "name": "stdout",
     "output_type": "stream",
     "text": [
      "True Test Answer from Data is: no\n"
     ]
    }
   ],
   "source": [
    "print(\"True Test Answer from Data is:\",test_data[0][2])"
   ]
  },
  {
   "cell_type": "code",
   "execution_count": 62,
   "metadata": {},
   "outputs": [
    {
     "name": "stdout",
     "output_type": "stream",
     "text": [
      "Predicted answer is:  no\n",
      "Probability of certainty was:  0.9999008\n"
     ]
    }
   ],
   "source": [
    "val_max = np.argmax(pred_results[0])\n",
    "for key, val in tokenizer.word_index.items():\n",
    "    if val == val_max:\n",
    "        k = key\n",
    "print(\"Predicted answer is: \", k)\n",
    "print(\"Probability of certainty was: \", pred_results[0][val_max])"
   ]
  },
  {
   "cell_type": "markdown",
   "metadata": {},
   "source": [
    "# Improve model"
   ]
  },
  {
   "cell_type": "code",
   "execution_count": 309,
   "metadata": {},
   "outputs": [
    {
     "data": {
      "text/plain": [
       "38"
      ]
     },
     "execution_count": 309,
     "metadata": {},
     "output_type": "execute_result"
    }
   ],
   "source": [
    "vocab_size "
   ]
  },
  {
   "cell_type": "markdown",
   "metadata": {},
   "source": [
    "Input encoder m"
   ]
  },
  {
   "cell_type": "code",
   "execution_count": 404,
   "metadata": {},
   "outputs": [],
   "source": [
    "im_input_encoder_m = Sequential()\n",
    "im_input_encoder_m.add(Embedding(input_dim=vocab_size, output_dim=64))\n",
    "im_input_encoder_m.add(Dropout(0.3))\n",
    "im_input_encoder_m.add(Dense(32, activation='relu'))\n",
    "im_input_encoder_m.add(Dropout(0.3))\n"
   ]
  },
  {
   "cell_type": "markdown",
   "metadata": {},
   "source": [
    "Input encoder c"
   ]
  },
  {
   "cell_type": "code",
   "execution_count": 405,
   "metadata": {},
   "outputs": [],
   "source": [
    "im_input_encoder_c = Sequential()\n",
    "im_input_encoder_c.add(Embedding(input_dim=vocab_size, output_dim=max_question_len))\n",
    "im_input_encoder_c.add(Dropout(0.3))\n",
    "im_input_encoder_c.add(Dense(max_question_len, activation='relu'))\n",
    "im_input_encoder_c.add(Dropout(0.3))"
   ]
  },
  {
   "cell_type": "markdown",
   "metadata": {},
   "source": [
    "Question Encoder"
   ]
  },
  {
   "cell_type": "code",
   "execution_count": 406,
   "metadata": {},
   "outputs": [],
   "source": [
    "im_question_encoder = Sequential()\n",
    "im_question_encoder.add(Embedding(input_dim=vocab_size, output_dim=32, input_length=max_question_len))\n",
    "im_question_encoder.add(Dropout(0.3))"
   ]
  },
  {
   "cell_type": "markdown",
   "metadata": {},
   "source": [
    "Encode the Sequences"
   ]
  },
  {
   "cell_type": "code",
   "execution_count": 407,
   "metadata": {},
   "outputs": [],
   "source": [
    "im_input_encoder_m = im_input_encoder_m(input_sequence)\n",
    "im_input_encoder_c = im_input_encoder_c(input_sequence)\n",
    "im_question_encoded = im_question_encoder(question)"
   ]
  },
  {
   "cell_type": "code",
   "execution_count": 408,
   "metadata": {},
   "outputs": [],
   "source": [
    "im_match = dot([im_input_encoder_m, im_question_encoded], axes=(2, 2))\n",
    "im_match = Activation('softmax')(im_match)"
   ]
  },
  {
   "cell_type": "code",
   "execution_count": 409,
   "metadata": {},
   "outputs": [],
   "source": [
    "im_response = add([im_match, im_input_encoder_c])\n",
    "im_response = Permute((2, 1))(im_response)"
   ]
  },
  {
   "cell_type": "code",
   "execution_count": 410,
   "metadata": {},
   "outputs": [
    {
     "data": {
      "text/plain": [
       "<KerasTensor: shape=(None, 6, 188) dtype=float32 (created by layer 'concatenate_32')>"
      ]
     },
     "execution_count": 410,
     "metadata": {},
     "output_type": "execute_result"
    }
   ],
   "source": [
    "im_answer = concatenate([im_response, im_question_encoded])\n",
    "im_answer"
   ]
  },
  {
   "cell_type": "code",
   "execution_count": 411,
   "metadata": {},
   "outputs": [],
   "source": [
    "im_answer = LSTM(32)(im_answer)\n",
    "im_answer = Dropout(0.3)(im_answer)\n",
    "im_answer = Dense(vocab_size)(im_answer)\n",
    "im_answer = Activation('softmax')(im_answer)\n"
   ]
  },
  {
   "cell_type": "code",
   "execution_count": 412,
   "metadata": {},
   "outputs": [
    {
     "name": "stdout",
     "output_type": "stream",
     "text": [
      "Model: \"model_30\"\n",
      "__________________________________________________________________________________________________\n",
      " Layer (type)                Output Shape                 Param #   Connected to                  \n",
      "==================================================================================================\n",
      " input_1 (InputLayer)        [(None, 156)]                0         []                            \n",
      "                                                                                                  \n",
      " input_2 (InputLayer)        [(None, 6)]                  0         []                            \n",
      "                                                                                                  \n",
      " sequential_98 (Sequential)  (None, None, 32)             4512      ['input_1[0][0]']             \n",
      "                                                                                                  \n",
      " sequential_100 (Sequential  (None, 6, 32)                1216      ['input_2[0][0]']             \n",
      " )                                                                                                \n",
      "                                                                                                  \n",
      " dot_34 (Dot)                (None, 156, 6)               0         ['sequential_98[0][0]',       \n",
      "                                                                     'sequential_100[0][0]']      \n",
      "                                                                                                  \n",
      " activation_57 (Activation)  (None, 156, 6)               0         ['dot_34[0][0]']              \n",
      "                                                                                                  \n",
      " sequential_99 (Sequential)  (None, None, 6)              270       ['input_1[0][0]']             \n",
      "                                                                                                  \n",
      " add_32 (Add)                (None, 156, 6)               0         ['activation_57[0][0]',       \n",
      "                                                                     'sequential_99[0][0]']       \n",
      "                                                                                                  \n",
      " permute_32 (Permute)        (None, 6, 156)               0         ['add_32[0][0]']              \n",
      "                                                                                                  \n",
      " concatenate_32 (Concatenat  (None, 6, 188)               0         ['permute_32[0][0]',          \n",
      " e)                                                                  'sequential_100[0][0]']      \n",
      "                                                                                                  \n",
      " lstm_47 (LSTM)              (None, 32)                   28288     ['concatenate_32[0][0]']      \n",
      "                                                                                                  \n",
      " dropout_206 (Dropout)       (None, 32)                   0         ['lstm_47[0][0]']             \n",
      "                                                                                                  \n",
      " dense_108 (Dense)           (None, 38)                   1254      ['dropout_206[0][0]']         \n",
      "                                                                                                  \n",
      " activation_58 (Activation)  (None, 38)                   0         ['dense_108[0][0]']           \n",
      "                                                                                                  \n",
      "==================================================================================================\n",
      "Total params: 35540 (138.83 KB)\n",
      "Trainable params: 35540 (138.83 KB)\n",
      "Non-trainable params: 0 (0.00 Byte)\n",
      "__________________________________________________________________________________________________\n"
     ]
    }
   ],
   "source": [
    "im_model = Model([input_sequence, question], im_answer)\n",
    "im_model.compile(optimizer='adam', loss='categorical_crossentropy', metrics=['accuracy'])\n",
    "im_model.summary()"
   ]
  },
  {
   "cell_type": "code",
   "execution_count": 413,
   "metadata": {},
   "outputs": [
    {
     "name": "stdout",
     "output_type": "stream",
     "text": [
      "Epoch 1/120\n"
     ]
    },
    {
     "name": "stdout",
     "output_type": "stream",
     "text": [
      "157/157 [==============================] - 3s 8ms/step - loss: 1.0710 - accuracy: 0.4895 - val_loss: 0.7064 - val_accuracy: 0.4970\n",
      "Epoch 2/120\n",
      "157/157 [==============================] - 1s 6ms/step - loss: 0.7256 - accuracy: 0.5023 - val_loss: 0.6981 - val_accuracy: 0.5030\n",
      "Epoch 3/120\n",
      "157/157 [==============================] - 1s 5ms/step - loss: 0.7117 - accuracy: 0.4997 - val_loss: 0.6970 - val_accuracy: 0.5030\n",
      "Epoch 4/120\n",
      "157/157 [==============================] - 1s 5ms/step - loss: 0.7056 - accuracy: 0.4952 - val_loss: 0.6954 - val_accuracy: 0.4970\n",
      "Epoch 5/120\n",
      "157/157 [==============================] - 1s 5ms/step - loss: 0.6998 - accuracy: 0.4981 - val_loss: 0.6959 - val_accuracy: 0.4970\n",
      "Epoch 6/120\n",
      "157/157 [==============================] - 1s 6ms/step - loss: 0.6976 - accuracy: 0.5051 - val_loss: 0.6961 - val_accuracy: 0.5030\n",
      "Epoch 7/120\n",
      "157/157 [==============================] - 1s 5ms/step - loss: 0.6971 - accuracy: 0.4972 - val_loss: 0.6949 - val_accuracy: 0.4970\n",
      "Epoch 8/120\n",
      "157/157 [==============================] - 1s 5ms/step - loss: 0.6958 - accuracy: 0.4982 - val_loss: 0.6937 - val_accuracy: 0.5030\n",
      "Epoch 9/120\n",
      "157/157 [==============================] - 1s 6ms/step - loss: 0.6954 - accuracy: 0.5030 - val_loss: 0.6936 - val_accuracy: 0.5030\n",
      "Epoch 10/120\n",
      "157/157 [==============================] - 1s 5ms/step - loss: 0.6954 - accuracy: 0.5028 - val_loss: 0.6935 - val_accuracy: 0.5030\n",
      "Epoch 11/120\n",
      "157/157 [==============================] - 1s 6ms/step - loss: 0.6950 - accuracy: 0.5007 - val_loss: 0.6943 - val_accuracy: 0.4970\n",
      "Epoch 12/120\n",
      "157/157 [==============================] - 1s 5ms/step - loss: 0.6946 - accuracy: 0.5024 - val_loss: 0.6936 - val_accuracy: 0.5030\n",
      "Epoch 13/120\n",
      "157/157 [==============================] - 1s 5ms/step - loss: 0.6947 - accuracy: 0.4980 - val_loss: 0.6937 - val_accuracy: 0.5030\n",
      "Epoch 14/120\n",
      "157/157 [==============================] - 1s 5ms/step - loss: 0.6944 - accuracy: 0.5007 - val_loss: 0.6935 - val_accuracy: 0.4970\n",
      "Epoch 15/120\n",
      "157/157 [==============================] - 1s 5ms/step - loss: 0.6948 - accuracy: 0.5019 - val_loss: 0.6933 - val_accuracy: 0.5030\n",
      "Epoch 16/120\n",
      "157/157 [==============================] - 1s 5ms/step - loss: 0.6953 - accuracy: 0.4963 - val_loss: 0.6941 - val_accuracy: 0.4970\n",
      "Epoch 17/120\n",
      "157/157 [==============================] - 1s 5ms/step - loss: 0.6941 - accuracy: 0.5066 - val_loss: 0.6946 - val_accuracy: 0.4970\n",
      "Epoch 18/120\n",
      "157/157 [==============================] - 1s 5ms/step - loss: 0.6940 - accuracy: 0.5061 - val_loss: 0.6951 - val_accuracy: 0.4970\n",
      "Epoch 19/120\n",
      "157/157 [==============================] - 1s 5ms/step - loss: 0.6951 - accuracy: 0.4981 - val_loss: 0.6951 - val_accuracy: 0.4970\n",
      "Epoch 20/120\n",
      "157/157 [==============================] - 1s 5ms/step - loss: 0.6947 - accuracy: 0.4975 - val_loss: 0.6932 - val_accuracy: 0.4960\n",
      "Epoch 21/120\n",
      "157/157 [==============================] - 1s 6ms/step - loss: 0.6942 - accuracy: 0.4938 - val_loss: 0.6939 - val_accuracy: 0.4970\n",
      "Epoch 22/120\n",
      "157/157 [==============================] - 1s 6ms/step - loss: 0.6942 - accuracy: 0.5074 - val_loss: 0.6934 - val_accuracy: 0.5030\n",
      "Epoch 23/120\n",
      "157/157 [==============================] - 1s 6ms/step - loss: 0.6947 - accuracy: 0.4949 - val_loss: 0.6932 - val_accuracy: 0.5050\n",
      "Epoch 24/120\n",
      "157/157 [==============================] - 1s 5ms/step - loss: 0.6947 - accuracy: 0.5018 - val_loss: 0.6941 - val_accuracy: 0.4970\n",
      "Epoch 25/120\n",
      "157/157 [==============================] - 1s 5ms/step - loss: 0.6940 - accuracy: 0.5072 - val_loss: 0.6925 - val_accuracy: 0.5030\n",
      "Epoch 26/120\n",
      "157/157 [==============================] - 1s 5ms/step - loss: 0.6931 - accuracy: 0.5099 - val_loss: 0.6915 - val_accuracy: 0.5390\n",
      "Epoch 27/120\n",
      "157/157 [==============================] - 1s 5ms/step - loss: 0.6928 - accuracy: 0.5148 - val_loss: 0.6927 - val_accuracy: 0.5040\n",
      "Epoch 28/120\n",
      "157/157 [==============================] - 1s 5ms/step - loss: 0.6923 - accuracy: 0.5179 - val_loss: 0.6896 - val_accuracy: 0.5140\n",
      "Epoch 29/120\n",
      "157/157 [==============================] - 1s 5ms/step - loss: 0.6891 - accuracy: 0.5282 - val_loss: 0.6815 - val_accuracy: 0.5810\n",
      "Epoch 30/120\n",
      "157/157 [==============================] - 1s 5ms/step - loss: 0.6798 - accuracy: 0.5722 - val_loss: 0.6642 - val_accuracy: 0.6330\n",
      "Epoch 31/120\n",
      "157/157 [==============================] - 1s 5ms/step - loss: 0.6418 - accuracy: 0.6387 - val_loss: 0.6147 - val_accuracy: 0.6740\n",
      "Epoch 32/120\n",
      "157/157 [==============================] - 1s 5ms/step - loss: 0.6122 - accuracy: 0.6693 - val_loss: 0.5964 - val_accuracy: 0.7010\n",
      "Epoch 33/120\n",
      "157/157 [==============================] - 1s 5ms/step - loss: 0.6007 - accuracy: 0.6827 - val_loss: 0.5814 - val_accuracy: 0.7080\n",
      "Epoch 34/120\n",
      "157/157 [==============================] - 1s 5ms/step - loss: 0.5888 - accuracy: 0.6959 - val_loss: 0.5646 - val_accuracy: 0.7110\n",
      "Epoch 35/120\n",
      "157/157 [==============================] - 1s 5ms/step - loss: 0.5771 - accuracy: 0.7073 - val_loss: 0.5463 - val_accuracy: 0.7220\n",
      "Epoch 36/120\n",
      "157/157 [==============================] - 1s 5ms/step - loss: 0.5591 - accuracy: 0.7262 - val_loss: 0.5242 - val_accuracy: 0.7610\n",
      "Epoch 37/120\n",
      "157/157 [==============================] - 1s 5ms/step - loss: 0.5462 - accuracy: 0.7339 - val_loss: 0.5158 - val_accuracy: 0.7480\n",
      "Epoch 38/120\n",
      "157/157 [==============================] - 1s 5ms/step - loss: 0.5311 - accuracy: 0.7457 - val_loss: 0.5122 - val_accuracy: 0.7610\n",
      "Epoch 39/120\n",
      "157/157 [==============================] - 1s 5ms/step - loss: 0.5264 - accuracy: 0.7456 - val_loss: 0.5009 - val_accuracy: 0.7620\n",
      "Epoch 40/120\n",
      "157/157 [==============================] - 1s 5ms/step - loss: 0.5170 - accuracy: 0.7556 - val_loss: 0.4977 - val_accuracy: 0.7690\n",
      "Epoch 41/120\n",
      "157/157 [==============================] - 1s 5ms/step - loss: 0.5162 - accuracy: 0.7591 - val_loss: 0.4996 - val_accuracy: 0.7630\n",
      "Epoch 42/120\n",
      "157/157 [==============================] - 1s 5ms/step - loss: 0.5050 - accuracy: 0.7641 - val_loss: 0.4848 - val_accuracy: 0.7730\n",
      "Epoch 43/120\n",
      "157/157 [==============================] - 1s 5ms/step - loss: 0.4843 - accuracy: 0.7776 - val_loss: 0.4557 - val_accuracy: 0.7870\n",
      "Epoch 44/120\n",
      "157/157 [==============================] - 1s 5ms/step - loss: 0.4586 - accuracy: 0.7911 - val_loss: 0.4477 - val_accuracy: 0.7900\n",
      "Epoch 45/120\n",
      "157/157 [==============================] - 1s 5ms/step - loss: 0.4393 - accuracy: 0.8032 - val_loss: 0.4382 - val_accuracy: 0.7960\n",
      "Epoch 46/120\n",
      "157/157 [==============================] - 1s 5ms/step - loss: 0.4318 - accuracy: 0.8047 - val_loss: 0.4322 - val_accuracy: 0.7950\n",
      "Epoch 47/120\n",
      "157/157 [==============================] - 1s 5ms/step - loss: 0.4228 - accuracy: 0.8096 - val_loss: 0.4303 - val_accuracy: 0.8030\n",
      "Epoch 48/120\n",
      "157/157 [==============================] - 1s 5ms/step - loss: 0.4201 - accuracy: 0.8091 - val_loss: 0.4216 - val_accuracy: 0.8030\n",
      "Epoch 49/120\n",
      "157/157 [==============================] - 1s 5ms/step - loss: 0.4148 - accuracy: 0.8056 - val_loss: 0.4181 - val_accuracy: 0.8050\n",
      "Epoch 50/120\n",
      "157/157 [==============================] - 1s 5ms/step - loss: 0.4065 - accuracy: 0.8175 - val_loss: 0.4086 - val_accuracy: 0.8140\n",
      "Epoch 51/120\n",
      "157/157 [==============================] - 1s 5ms/step - loss: 0.4041 - accuracy: 0.8186 - val_loss: 0.4058 - val_accuracy: 0.8160\n",
      "Epoch 52/120\n",
      "157/157 [==============================] - 1s 5ms/step - loss: 0.3940 - accuracy: 0.8239 - val_loss: 0.4044 - val_accuracy: 0.8150\n",
      "Epoch 53/120\n",
      "157/157 [==============================] - 1s 5ms/step - loss: 0.3885 - accuracy: 0.8255 - val_loss: 0.3932 - val_accuracy: 0.8160\n",
      "Epoch 54/120\n",
      "157/157 [==============================] - 1s 5ms/step - loss: 0.3872 - accuracy: 0.8230 - val_loss: 0.3950 - val_accuracy: 0.8150\n",
      "Epoch 55/120\n",
      "157/157 [==============================] - 1s 5ms/step - loss: 0.3883 - accuracy: 0.8277 - val_loss: 0.3839 - val_accuracy: 0.8220\n",
      "Epoch 56/120\n",
      "157/157 [==============================] - 1s 5ms/step - loss: 0.3781 - accuracy: 0.8290 - val_loss: 0.3828 - val_accuracy: 0.8230\n",
      "Epoch 57/120\n",
      "157/157 [==============================] - 1s 6ms/step - loss: 0.3794 - accuracy: 0.8276 - val_loss: 0.3776 - val_accuracy: 0.8290\n",
      "Epoch 58/120\n",
      "157/157 [==============================] - 1s 5ms/step - loss: 0.3765 - accuracy: 0.8304 - val_loss: 0.3841 - val_accuracy: 0.8200\n",
      "Epoch 59/120\n",
      "157/157 [==============================] - 1s 5ms/step - loss: 0.3662 - accuracy: 0.8368 - val_loss: 0.3799 - val_accuracy: 0.8240\n",
      "Epoch 60/120\n",
      "157/157 [==============================] - 1s 5ms/step - loss: 0.3652 - accuracy: 0.8347 - val_loss: 0.3711 - val_accuracy: 0.8210\n",
      "Epoch 61/120\n",
      "157/157 [==============================] - 1s 6ms/step - loss: 0.3636 - accuracy: 0.8351 - val_loss: 0.3832 - val_accuracy: 0.8180\n",
      "Epoch 62/120\n",
      "157/157 [==============================] - 1s 5ms/step - loss: 0.3647 - accuracy: 0.8375 - val_loss: 0.3644 - val_accuracy: 0.8240\n",
      "Epoch 63/120\n",
      "157/157 [==============================] - 1s 5ms/step - loss: 0.3560 - accuracy: 0.8382 - val_loss: 0.3599 - val_accuracy: 0.8290\n",
      "Epoch 64/120\n",
      "157/157 [==============================] - 1s 5ms/step - loss: 0.3597 - accuracy: 0.8389 - val_loss: 0.3600 - val_accuracy: 0.8310\n",
      "Epoch 65/120\n",
      "157/157 [==============================] - 1s 5ms/step - loss: 0.3533 - accuracy: 0.8430 - val_loss: 0.3576 - val_accuracy: 0.8310\n",
      "Epoch 66/120\n",
      "157/157 [==============================] - 1s 5ms/step - loss: 0.3537 - accuracy: 0.8418 - val_loss: 0.3547 - val_accuracy: 0.8290\n",
      "Epoch 67/120\n",
      "157/157 [==============================] - 1s 5ms/step - loss: 0.3534 - accuracy: 0.8407 - val_loss: 0.3630 - val_accuracy: 0.8240\n",
      "Epoch 68/120\n",
      "157/157 [==============================] - 1s 5ms/step - loss: 0.3453 - accuracy: 0.8448 - val_loss: 0.3556 - val_accuracy: 0.8280\n",
      "Epoch 69/120\n",
      "157/157 [==============================] - 1s 5ms/step - loss: 0.3482 - accuracy: 0.8443 - val_loss: 0.3600 - val_accuracy: 0.8240\n",
      "Epoch 70/120\n",
      "157/157 [==============================] - 1s 5ms/step - loss: 0.3482 - accuracy: 0.8440 - val_loss: 0.3615 - val_accuracy: 0.8190\n",
      "Epoch 71/120\n",
      "157/157 [==============================] - 1s 5ms/step - loss: 0.3413 - accuracy: 0.8447 - val_loss: 0.3610 - val_accuracy: 0.8230\n",
      "Epoch 72/120\n",
      "157/157 [==============================] - 1s 5ms/step - loss: 0.3449 - accuracy: 0.8453 - val_loss: 0.3572 - val_accuracy: 0.8230\n",
      "Epoch 73/120\n",
      "157/157 [==============================] - 1s 5ms/step - loss: 0.3363 - accuracy: 0.8493 - val_loss: 0.3424 - val_accuracy: 0.8340\n",
      "Epoch 74/120\n",
      "157/157 [==============================] - 1s 5ms/step - loss: 0.3279 - accuracy: 0.8536 - val_loss: 0.3330 - val_accuracy: 0.8430\n",
      "Epoch 75/120\n",
      "157/157 [==============================] - 1s 5ms/step - loss: 0.3312 - accuracy: 0.8523 - val_loss: 0.3355 - val_accuracy: 0.8370\n",
      "Epoch 76/120\n",
      "157/157 [==============================] - 1s 5ms/step - loss: 0.3272 - accuracy: 0.8543 - val_loss: 0.3363 - val_accuracy: 0.8350\n",
      "Epoch 77/120\n",
      "157/157 [==============================] - 1s 5ms/step - loss: 0.3245 - accuracy: 0.8543 - val_loss: 0.3338 - val_accuracy: 0.8350\n",
      "Epoch 78/120\n",
      "157/157 [==============================] - 1s 5ms/step - loss: 0.3210 - accuracy: 0.8570 - val_loss: 0.3337 - val_accuracy: 0.8360\n",
      "Epoch 79/120\n",
      "157/157 [==============================] - 1s 5ms/step - loss: 0.3218 - accuracy: 0.8570 - val_loss: 0.3282 - val_accuracy: 0.8430\n",
      "Epoch 80/120\n",
      "157/157 [==============================] - 1s 5ms/step - loss: 0.3169 - accuracy: 0.8573 - val_loss: 0.3298 - val_accuracy: 0.8410\n",
      "Epoch 81/120\n",
      "157/157 [==============================] - 1s 5ms/step - loss: 0.3163 - accuracy: 0.8601 - val_loss: 0.3313 - val_accuracy: 0.8440\n",
      "Epoch 82/120\n",
      "157/157 [==============================] - 1s 5ms/step - loss: 0.3168 - accuracy: 0.8575 - val_loss: 0.3355 - val_accuracy: 0.8360\n",
      "Epoch 83/120\n",
      "157/157 [==============================] - 1s 5ms/step - loss: 0.3143 - accuracy: 0.8594 - val_loss: 0.3380 - val_accuracy: 0.8450\n",
      "Epoch 84/120\n",
      "157/157 [==============================] - 1s 6ms/step - loss: 0.3186 - accuracy: 0.8585 - val_loss: 0.3322 - val_accuracy: 0.8430\n",
      "Epoch 85/120\n",
      "157/157 [==============================] - 1s 5ms/step - loss: 0.3124 - accuracy: 0.8598 - val_loss: 0.3402 - val_accuracy: 0.8340\n",
      "Epoch 86/120\n",
      "157/157 [==============================] - 1s 5ms/step - loss: 0.3149 - accuracy: 0.8594 - val_loss: 0.3409 - val_accuracy: 0.8370\n",
      "Epoch 87/120\n",
      "157/157 [==============================] - 1s 5ms/step - loss: 0.3134 - accuracy: 0.8575 - val_loss: 0.3356 - val_accuracy: 0.8430\n",
      "Epoch 88/120\n",
      "157/157 [==============================] - 1s 5ms/step - loss: 0.3089 - accuracy: 0.8618 - val_loss: 0.3307 - val_accuracy: 0.8380\n",
      "Epoch 89/120\n",
      "157/157 [==============================] - 1s 5ms/step - loss: 0.3102 - accuracy: 0.8596 - val_loss: 0.3360 - val_accuracy: 0.8410\n",
      "Epoch 90/120\n",
      "157/157 [==============================] - 1s 5ms/step - loss: 0.3159 - accuracy: 0.8583 - val_loss: 0.3321 - val_accuracy: 0.8370\n",
      "Epoch 91/120\n",
      "157/157 [==============================] - 1s 5ms/step - loss: 0.3125 - accuracy: 0.8583 - val_loss: 0.3320 - val_accuracy: 0.8390\n",
      "Epoch 92/120\n",
      "157/157 [==============================] - 1s 5ms/step - loss: 0.3116 - accuracy: 0.8602 - val_loss: 0.3336 - val_accuracy: 0.8410\n",
      "Epoch 93/120\n",
      "157/157 [==============================] - 1s 5ms/step - loss: 0.3114 - accuracy: 0.8624 - val_loss: 0.3501 - val_accuracy: 0.8380\n",
      "Epoch 94/120\n",
      "157/157 [==============================] - 1s 5ms/step - loss: 0.3132 - accuracy: 0.8562 - val_loss: 0.3351 - val_accuracy: 0.8420\n",
      "Epoch 95/120\n",
      "157/157 [==============================] - 1s 5ms/step - loss: 0.3082 - accuracy: 0.8626 - val_loss: 0.3286 - val_accuracy: 0.8420\n",
      "Epoch 96/120\n",
      "157/157 [==============================] - 1s 5ms/step - loss: 0.3059 - accuracy: 0.8627 - val_loss: 0.3324 - val_accuracy: 0.8450\n",
      "Epoch 97/120\n",
      "157/157 [==============================] - 1s 5ms/step - loss: 0.3030 - accuracy: 0.8627 - val_loss: 0.3500 - val_accuracy: 0.8350\n",
      "Epoch 98/120\n",
      "157/157 [==============================] - 1s 5ms/step - loss: 0.3065 - accuracy: 0.8635 - val_loss: 0.3341 - val_accuracy: 0.8450\n",
      "Epoch 99/120\n",
      "157/157 [==============================] - 1s 5ms/step - loss: 0.3096 - accuracy: 0.8634 - val_loss: 0.3327 - val_accuracy: 0.8410\n",
      "Epoch 100/120\n",
      "157/157 [==============================] - 1s 5ms/step - loss: 0.3069 - accuracy: 0.8588 - val_loss: 0.3258 - val_accuracy: 0.8490\n",
      "Epoch 101/120\n",
      "157/157 [==============================] - 1s 5ms/step - loss: 0.3095 - accuracy: 0.8608 - val_loss: 0.3290 - val_accuracy: 0.8390\n",
      "Epoch 102/120\n",
      "157/157 [==============================] - 1s 5ms/step - loss: 0.3055 - accuracy: 0.8618 - val_loss: 0.3340 - val_accuracy: 0.8420\n",
      "Epoch 103/120\n",
      "157/157 [==============================] - 1s 5ms/step - loss: 0.3058 - accuracy: 0.8628 - val_loss: 0.3320 - val_accuracy: 0.8390\n",
      "Epoch 104/120\n",
      "157/157 [==============================] - 1s 5ms/step - loss: 0.3083 - accuracy: 0.8595 - val_loss: 0.3282 - val_accuracy: 0.8460\n",
      "Epoch 105/120\n",
      "157/157 [==============================] - 1s 5ms/step - loss: 0.3022 - accuracy: 0.8622 - val_loss: 0.3451 - val_accuracy: 0.8380\n",
      "Epoch 106/120\n",
      "157/157 [==============================] - 1s 5ms/step - loss: 0.3032 - accuracy: 0.8630 - val_loss: 0.3334 - val_accuracy: 0.8460\n",
      "Epoch 107/120\n",
      "157/157 [==============================] - 1s 5ms/step - loss: 0.3061 - accuracy: 0.8631 - val_loss: 0.3349 - val_accuracy: 0.8390\n",
      "Epoch 108/120\n",
      "157/157 [==============================] - 1s 5ms/step - loss: 0.3068 - accuracy: 0.8627 - val_loss: 0.3327 - val_accuracy: 0.8400\n",
      "Epoch 109/120\n",
      "157/157 [==============================] - 1s 5ms/step - loss: 0.3012 - accuracy: 0.8627 - val_loss: 0.3327 - val_accuracy: 0.8420\n",
      "Epoch 110/120\n",
      "157/157 [==============================] - 1s 6ms/step - loss: 0.3012 - accuracy: 0.8662 - val_loss: 0.3323 - val_accuracy: 0.8420\n",
      "Epoch 111/120\n",
      "157/157 [==============================] - 1s 5ms/step - loss: 0.3050 - accuracy: 0.8637 - val_loss: 0.3453 - val_accuracy: 0.8370\n",
      "Epoch 112/120\n",
      "157/157 [==============================] - 1s 5ms/step - loss: 0.3038 - accuracy: 0.8619 - val_loss: 0.3235 - val_accuracy: 0.8420\n",
      "Epoch 113/120\n",
      "157/157 [==============================] - 1s 5ms/step - loss: 0.3062 - accuracy: 0.8625 - val_loss: 0.3247 - val_accuracy: 0.8410\n",
      "Epoch 114/120\n",
      "157/157 [==============================] - 1s 5ms/step - loss: 0.3004 - accuracy: 0.8645 - val_loss: 0.3313 - val_accuracy: 0.8390\n",
      "Epoch 115/120\n",
      "157/157 [==============================] - 1s 5ms/step - loss: 0.3000 - accuracy: 0.8662 - val_loss: 0.3381 - val_accuracy: 0.8350\n",
      "Epoch 116/120\n",
      "157/157 [==============================] - 1s 5ms/step - loss: 0.3041 - accuracy: 0.8622 - val_loss: 0.3320 - val_accuracy: 0.8420\n",
      "Epoch 117/120\n",
      "157/157 [==============================] - 1s 5ms/step - loss: 0.3017 - accuracy: 0.8618 - val_loss: 0.3438 - val_accuracy: 0.8390\n",
      "Epoch 118/120\n",
      "157/157 [==============================] - 1s 5ms/step - loss: 0.3018 - accuracy: 0.8635 - val_loss: 0.3331 - val_accuracy: 0.8430\n",
      "Epoch 119/120\n",
      "157/157 [==============================] - 1s 5ms/step - loss: 0.3010 - accuracy: 0.8645 - val_loss: 0.3330 - val_accuracy: 0.8450\n",
      "Epoch 120/120\n",
      "157/157 [==============================] - 1s 5ms/step - loss: 0.3025 - accuracy: 0.8649 - val_loss: 0.3383 - val_accuracy: 0.8380\n"
     ]
    }
   ],
   "source": [
    "im_history = im_model.fit([inputs_train, queries_train], answers_train, batch_size=64, epochs=120, validation_data=([inputs_test, queries_test], answers_test))"
   ]
  },
  {
   "cell_type": "code",
   "execution_count": 414,
   "metadata": {},
   "outputs": [
    {
     "name": "stderr",
     "output_type": "stream",
     "text": [
      "/home/dotronghiep/anaconda3/envs/NLP/lib/python3.9/site-packages/keras/src/engine/training.py:3103: UserWarning: You are saving your model as an HDF5 file via `model.save()`. This file format is considered legacy. We recommend using instead the native Keras format, e.g. `model.save('my_model.keras')`.\n",
      "  saving_api.save_model(\n"
     ]
    }
   ],
   "source": [
    "filename2 = 'chatbot_improve_120_epochs.h5'\n",
    "im_model.save(filename2)"
   ]
  },
  {
   "cell_type": "code",
   "execution_count": 415,
   "metadata": {},
   "outputs": [
    {
     "name": "stdout",
     "output_type": "stream",
     "text": [
      "dict_keys(['loss', 'accuracy', 'val_loss', 'val_accuracy'])\n"
     ]
    },
    {
     "data": {
      "image/png": "[encoded data removed]",
      "text/plain": [
       "<Figure size 640x480 with 1 Axes>"
      ]
     },
     "metadata": {},
     "output_type": "display_data"
    }
   ],
   "source": [
    "%matplotlib inline\n",
    "print(im_history.history.keys())\n",
    "# summarize history for accuracy\n",
    "plt.plot(im_history.history['accuracy'])\n",
    "plt.plot(im_history.history['val_accuracy'])\n",
    "plt.title('model accuracy')\n",
    "plt.ylabel('accuracy')\n",
    "plt.xlabel('epoch')\n",
    "plt.legend(['train', 'test'], loc='upper left')\n",
    "plt.show()"
   ]
  }
 ],
 "metadata": {
  "kernelspec": {
   "display_name": "NLP",
   "language": "python",
   "name": "python3"
  },
  "language_info": {
   "codemirror_mode": {
    "name": "ipython",
    "version": 3
   },
   "file_extension": ".py",
   "mimetype": "text/x-python",
   "name": "python",
   "nbconvert_exporter": "python",
   "pygments_lexer": "ipython3",
   "version": "3.9.18"
  }
 },
 "nbformat": 4,
 "nbformat_minor": 2
}
