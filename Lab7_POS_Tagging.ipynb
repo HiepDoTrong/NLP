{
 "cells": [
  {
   "cell_type": "code",
   "execution_count": null,
   "metadata": {},
   "outputs": [],
   "source": [
    "import numpy as np\n",
    "\n",
    "def viterbi(observations, state_graph):\n",
    "    N = len(state_graph)\n",
    "    T = len(observations)\n",
    "    viterbi = np.zeros((N, T))\n",
    "    backpointer = np.zeros((N, T), dtype=int)\n",
    "\n",
    "    # Initialization step\n",
    "    for s in range(N):\n",
    "        viterbi[s, 0] = state_graph[s].pi * state_graph[s].b[observations[0]]\n",
    "        backpointer[s, 0] = 0\n",
    "\n",
    "    # Recursion step\n",
    "    for t in range(1, T):\n",
    "        for s in range(N):\n",
    "            viterbi[s, t] = max([viterbi[s_prime, t-1] * state_graph[s_prime].a[s] * state_graph[s].b[observations[t]] for s_prime in range(N)])\n",
    "            backpointer[s, t] = np.argmax([viterbi[s_prime, t-1] * state_graph[s_prime].a[s] for s_prime in range(N)])\n",
    "\n",
    "    # Termination step\n",
    "    best_path_prob = max([viterbi[s, T-1] for s in range(N)])\n",
    "    best_path_pointer = np.argmax([viterbi[s, T-1] for s in range(N)])\n",
    "\n",
    "    # Path backtracking\n",
    "    best_path = [best_path_pointer]\n",
    "    for t in range(T-1, 0, -1):\n",
    "        best_path_pointer = backpointer[best_path_pointer, t]\n",
    "        best_path.insert(0, best_path_pointer)\n",
    "\n",
    "    return best_path, best_path_prob"
   ]
  },
  {
   "cell_type": "code",
   "execution_count": 2,
   "metadata": {},
   "outputs": [
    {
     "name": "stdout",
     "output_type": "stream",
     "text": [
      "          Sentence #           Word  POS Tag\n",
      "0        Sentence: 1      Thousands  NNS   O\n",
      "1                NaN             of   IN   O\n",
      "2                NaN  demonstrators  NNS   O\n",
      "3                NaN           have  VBP   O\n",
      "4                NaN        marched  VBN   O\n",
      "...              ...            ...  ...  ..\n",
      "1048570          NaN           they  PRP   O\n",
      "1048571          NaN      responded  VBD   O\n",
      "1048572          NaN             to   TO   O\n",
      "1048573          NaN            the   DT   O\n",
      "1048574          NaN         attack   NN   O\n",
      "\n",
      "[1048575 rows x 4 columns]\n"
     ]
    }
   ],
   "source": [
    "import pandas as pd\n",
    "\n",
    "df = pd.read_csv(\"NER.csv\", encoding='latin1')\n",
    "print(df)"
   ]
  },
  {
   "cell_type": "code",
   "execution_count": 5,
   "metadata": {},
   "outputs": [],
   "source": [
    "# Create vocabulary\n",
    "vocab = set(df['Word'])\n",
    "\n",
    "# Create set of tags\n",
    "tags = set(df['Tag'])\n"
   ]
  },
  {
   "cell_type": "code",
   "execution_count": 6,
   "metadata": {},
   "outputs": [
    {
     "data": {
      "text/plain": [
       "(35178, 17)"
      ]
     },
     "execution_count": 6,
     "metadata": {},
     "output_type": "execute_result"
    }
   ],
   "source": [
    "len(vocab), len(tags)"
   ]
  }
 ],
 "metadata": {
  "kernelspec": {
   "display_name": "NLP",
   "language": "python",
   "name": "python3"
  },
  "language_info": {
   "codemirror_mode": {
    "name": "ipython",
    "version": 3
   },
   "file_extension": ".py",
   "mimetype": "text/x-python",
   "name": "python",
   "nbconvert_exporter": "python",
   "pygments_lexer": "ipython3",
   "version": "3.9.18"
  }
 },
 "nbformat": 4,
 "nbformat_minor": 2
}
